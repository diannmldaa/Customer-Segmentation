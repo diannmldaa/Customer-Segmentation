{
  "cells": [
    {
      "cell_type": "code",
      "execution_count": null,
      "metadata": {
        "id": "UB517icWaL8Q",
        "outputId": "e6d9843a-0998-4d38-bd70-981b13c48659",
        "colab": {
          "base_uri": "https://localhost:8080/",
          "height": 34
        }
      },
      "outputs": [
        {
          "output_type": "display_data",
          "data": {
            "application/javascript": [
              "IPython.notebook.set_autosave_interval(30000)"
            ]
          },
          "metadata": {}
        },
        {
          "output_type": "stream",
          "name": "stdout",
          "text": [
            "Autosaving every 30 seconds\n"
          ]
        }
      ],
      "source": [
        "%autosave 30"
      ]
    },
    {
      "cell_type": "markdown",
      "metadata": {
        "id": "zoCiOoVNcScP"
      },
      "source": [
        "# **Use Case Summary**\n",
        "## Objective Statement\n",
        "- Get insight about how much customer spend every month on every year\n",
        "- Get insight about how much customer spend every month on 2011\n",
        "- Get insight about how much customer spend every month on 2012\n",
        "- Get insight about how much customer spend every month on 2013\n",
        "- Get insight about how much customer spend every month on 2014\n",
        "- Get insight about how big they spend on a transaction\n",
        "- Get insight about the ratio between customer segment\n",
        "- Get insight about trend on every year\n",
        "- Get business insight about how, when and whom to promote business on the right time\n",
        "- Get insight about marketing strategy or planning based on segmentation\n",
        "\n",
        "## Challenges\n",
        "\n",
        "- There is data that has an inappropriate data type\n",
        "\n",
        "### Methodology / Analytic Technique\n",
        "\n",
        "- Descriptive analysis\n",
        "- Graph analysis\n",
        "- RFM(Recency, Frequency, Monetary) Model\n",
        "\n",
        "## Business Benefit\n",
        "- Help Business to make decision about marketing strategy based on customer segmentation\n",
        "- Help business to focus what customer need\n",
        "\n",
        "\n",
        "## Expected Outcome\n",
        "- Get to know how many customer spend every month on every year on our business\n",
        "- Get to know how many customer spend every month on 2011\n",
        "- Get to know how many customer spend every month on 2012\n",
        "- Get to know how many customer spend every month on 2013\n",
        "- Get to know how many customer spend every month on 2014\n",
        "- Get to know how big they spend on a transaction\n",
        "- Get to know the ratio between customer segment\n",
        "- Get to know trend on every year\n",
        "- Get to know when, how, and for whom the product will be promote\n",
        "- Recommendation based on customer segmentation"
      ]
    },
    {
      "cell_type": "markdown",
      "metadata": {
        "id": "tsU6iQGF3Bas"
      },
      "source": [
        "# Business Understanding\n",
        "\n",
        "Online retail or as known as online shopping refers to a form of electronic commerce where consumers directly buy goods or services from a seller via the Internet rather. Customers usually visit the company's website, select a product, enter payment information and shipping details, and then order the product. All of these steps are completed entirely online.\n",
        "\n",
        "This case has some business question using the data : \n",
        "- How many customer spend every month on every year?\n",
        "- How big they are spend on a transaction?\n",
        "- How about Customer segmentation based on customer spend?\n",
        "- How about recommendation based customer segmentation?"
      ]
    },
    {
      "cell_type": "markdown",
      "metadata": {
        "id": "P_Rg9DrB1T-_"
      },
      "source": [
        "# Data Understanding\n",
        "- Order data is a record of customer purchase data from January 4, 2011 to December 31, 2014\n",
        "- Source Data :  https://www.kaggle.com/datasets/siddinho/sample-orders-dataset-retail\n",
        "- The dataset has 4 columns and 5009 rows.\n",
        "- Data Dictionary :\n",
        " - order_date : Date when customer order\n",
        " - order_id : ID customer order for each transaction \n",
        " - customer : Name of Customer\n",
        " - grand_total : total transaction for each customer"
      ]
    },
    {
      "cell_type": "markdown",
      "metadata": {
        "id": "KjukRUy100en"
      },
      "source": [
        "# Data Preparation\n",
        "Code Used:\n",
        "- Python Version: 3.7.15\n",
        "- Packages: Pandas, Numpy, Matplotlib, Seaborn, Datetime, Sklearn,Scipy, Plotly and Feature Engine "
      ]
    },
    {
      "cell_type": "markdown",
      "source": [
        "# Data Cleansing\n",
        "\n",
        "There is 1 column that has an inappropriate data type so it is necessary to adjust the data type."
      ],
      "metadata": {
        "id": "KF3G8kaeyRbV"
      }
    },
    {
      "cell_type": "markdown",
      "metadata": {
        "id": "a6yiHJ-LdxKx"
      },
      "source": [
        "# Package Installation"
      ]
    },
    {
      "cell_type": "code",
      "execution_count": null,
      "metadata": {
        "id": "iY5MoKmlGa6t",
        "colab": {
          "base_uri": "https://localhost:8080/"
        },
        "outputId": "62646c86-b3d9-4c62-a256-2da74de235fa"
      },
      "outputs": [
        {
          "output_type": "stream",
          "name": "stdout",
          "text": [
            "Looking in indexes: https://pypi.org/simple, https://us-python.pkg.dev/colab-wheels/public/simple/\n",
            "Collecting feature_engine\n",
            "  Downloading feature_engine-1.4.0-py2.py3-none-any.whl (276 kB)\n",
            "\u001b[K     |████████████████████████████████| 276 kB 22.7 MB/s \n",
            "\u001b[?25hRequirement already satisfied: scipy>=1.4.1 in /usr/local/lib/python3.7/dist-packages (from feature_engine) (1.7.3)\n",
            "Requirement already satisfied: pandas>=1.0.3 in /usr/local/lib/python3.7/dist-packages (from feature_engine) (1.3.5)\n",
            "Requirement already satisfied: numpy>=1.18.2 in /usr/local/lib/python3.7/dist-packages (from feature_engine) (1.21.6)\n",
            "Requirement already satisfied: statsmodels>=0.11.1 in /usr/local/lib/python3.7/dist-packages (from feature_engine) (0.12.2)\n",
            "Requirement already satisfied: scikit-learn>=1.0.0 in /usr/local/lib/python3.7/dist-packages (from feature_engine) (1.0.2)\n",
            "Requirement already satisfied: python-dateutil>=2.7.3 in /usr/local/lib/python3.7/dist-packages (from pandas>=1.0.3->feature_engine) (2.8.2)\n",
            "Requirement already satisfied: pytz>=2017.3 in /usr/local/lib/python3.7/dist-packages (from pandas>=1.0.3->feature_engine) (2022.6)\n",
            "Requirement already satisfied: six>=1.5 in /usr/local/lib/python3.7/dist-packages (from python-dateutil>=2.7.3->pandas>=1.0.3->feature_engine) (1.15.0)\n",
            "Requirement already satisfied: threadpoolctl>=2.0.0 in /usr/local/lib/python3.7/dist-packages (from scikit-learn>=1.0.0->feature_engine) (3.1.0)\n",
            "Requirement already satisfied: joblib>=0.11 in /usr/local/lib/python3.7/dist-packages (from scikit-learn>=1.0.0->feature_engine) (1.2.0)\n",
            "Requirement already satisfied: patsy>=0.5 in /usr/local/lib/python3.7/dist-packages (from statsmodels>=0.11.1->feature_engine) (0.5.3)\n",
            "Installing collected packages: feature-engine\n",
            "Successfully installed feature-engine-1.4.0\n"
          ]
        }
      ],
      "source": [
        "! pip install feature_engine"
      ]
    },
    {
      "cell_type": "markdown",
      "metadata": {
        "id": "v9SkUbHwd37r"
      },
      "source": [
        "# Import Package"
      ]
    },
    {
      "cell_type": "code",
      "execution_count": null,
      "metadata": {
        "id": "U9jm37oUrExG"
      },
      "outputs": [],
      "source": [
        "import pandas as pd\n",
        "import numpy as np\n",
        "import matplotlib.pyplot as plt\n",
        "import seaborn as sns\n",
        "\n",
        "import datetime as dt\n",
        "from datetime import datetime as dt2\n",
        "from datetime import timedelta as td\n",
        "from datetime import time as tm\n",
        "\n",
        "from scipy import stats\n",
        "from sklearn.preprocessing import StandardScaler\n",
        "from sklearn.manifold import TSNE\n",
        "\n",
        "import feature_engine \n",
        "from feature_engine.outliers import Winsorizer\n",
        "import plotly.offline as pyoff\n",
        "import plotly.graph_objs as go\n",
        "\n",
        "\n",
        "from sklearn.cluster import KMeans\n",
        "from sklearn.cluster import AgglomerativeClustering\n",
        "import scipy.cluster.hierarchy as sch\n",
        "from sklearn.metrics import davies_bouldin_score\n",
        "\n",
        "import warnings\n",
        "warnings.filterwarnings('ignore')"
      ]
    },
    {
      "cell_type": "markdown",
      "metadata": {
        "id": "SpIeXucvKCgy"
      },
      "source": [
        "# Data Profiling"
      ]
    },
    {
      "cell_type": "code",
      "execution_count": null,
      "metadata": {
        "colab": {
          "base_uri": "https://localhost:8080/",
          "height": 206
        },
        "id": "YhZcYhfNqnOQ",
        "outputId": "11815779-d0cb-4476-ce6d-2527b84d122c"
      },
      "outputs": [
        {
          "output_type": "execute_result",
          "data": {
            "text/plain": [
              "  order_date        order_id          customer  grand_total\n",
              "0   9/7/2011  CA-2011-100006       Dennis Kane          378\n",
              "1   7/8/2011  CA-2011-100090        Ed Braxton          699\n",
              "2  3/14/2011  CA-2011-100293  Neil Franzšsisch           91\n",
              "3  1/29/2011  CA-2011-100328   Jasper Cacioppo            4\n",
              "4   4/8/2011  CA-2011-100363       Jim Mitchum           21"
            ],
            "text/html": [
              "\n",
              "  <div id=\"df-df6d9bf2-7722-4622-8b5d-9006dab7e013\">\n",
              "    <div class=\"colab-df-container\">\n",
              "      <div>\n",
              "<style scoped>\n",
              "    .dataframe tbody tr th:only-of-type {\n",
              "        vertical-align: middle;\n",
              "    }\n",
              "\n",
              "    .dataframe tbody tr th {\n",
              "        vertical-align: top;\n",
              "    }\n",
              "\n",
              "    .dataframe thead th {\n",
              "        text-align: right;\n",
              "    }\n",
              "</style>\n",
              "<table border=\"1\" class=\"dataframe\">\n",
              "  <thead>\n",
              "    <tr style=\"text-align: right;\">\n",
              "      <th></th>\n",
              "      <th>order_date</th>\n",
              "      <th>order_id</th>\n",
              "      <th>customer</th>\n",
              "      <th>grand_total</th>\n",
              "    </tr>\n",
              "  </thead>\n",
              "  <tbody>\n",
              "    <tr>\n",
              "      <th>0</th>\n",
              "      <td>9/7/2011</td>\n",
              "      <td>CA-2011-100006</td>\n",
              "      <td>Dennis Kane</td>\n",
              "      <td>378</td>\n",
              "    </tr>\n",
              "    <tr>\n",
              "      <th>1</th>\n",
              "      <td>7/8/2011</td>\n",
              "      <td>CA-2011-100090</td>\n",
              "      <td>Ed Braxton</td>\n",
              "      <td>699</td>\n",
              "    </tr>\n",
              "    <tr>\n",
              "      <th>2</th>\n",
              "      <td>3/14/2011</td>\n",
              "      <td>CA-2011-100293</td>\n",
              "      <td>Neil Franzšsisch</td>\n",
              "      <td>91</td>\n",
              "    </tr>\n",
              "    <tr>\n",
              "      <th>3</th>\n",
              "      <td>1/29/2011</td>\n",
              "      <td>CA-2011-100328</td>\n",
              "      <td>Jasper Cacioppo</td>\n",
              "      <td>4</td>\n",
              "    </tr>\n",
              "    <tr>\n",
              "      <th>4</th>\n",
              "      <td>4/8/2011</td>\n",
              "      <td>CA-2011-100363</td>\n",
              "      <td>Jim Mitchum</td>\n",
              "      <td>21</td>\n",
              "    </tr>\n",
              "  </tbody>\n",
              "</table>\n",
              "</div>\n",
              "      <button class=\"colab-df-convert\" onclick=\"convertToInteractive('df-df6d9bf2-7722-4622-8b5d-9006dab7e013')\"\n",
              "              title=\"Convert this dataframe to an interactive table.\"\n",
              "              style=\"display:none;\">\n",
              "        \n",
              "  <svg xmlns=\"http://www.w3.org/2000/svg\" height=\"24px\"viewBox=\"0 0 24 24\"\n",
              "       width=\"24px\">\n",
              "    <path d=\"M0 0h24v24H0V0z\" fill=\"none\"/>\n",
              "    <path d=\"M18.56 5.44l.94 2.06.94-2.06 2.06-.94-2.06-.94-.94-2.06-.94 2.06-2.06.94zm-11 1L8.5 8.5l.94-2.06 2.06-.94-2.06-.94L8.5 2.5l-.94 2.06-2.06.94zm10 10l.94 2.06.94-2.06 2.06-.94-2.06-.94-.94-2.06-.94 2.06-2.06.94z\"/><path d=\"M17.41 7.96l-1.37-1.37c-.4-.4-.92-.59-1.43-.59-.52 0-1.04.2-1.43.59L10.3 9.45l-7.72 7.72c-.78.78-.78 2.05 0 2.83L4 21.41c.39.39.9.59 1.41.59.51 0 1.02-.2 1.41-.59l7.78-7.78 2.81-2.81c.8-.78.8-2.07 0-2.86zM5.41 20L4 18.59l7.72-7.72 1.47 1.35L5.41 20z\"/>\n",
              "  </svg>\n",
              "      </button>\n",
              "      \n",
              "  <style>\n",
              "    .colab-df-container {\n",
              "      display:flex;\n",
              "      flex-wrap:wrap;\n",
              "      gap: 12px;\n",
              "    }\n",
              "\n",
              "    .colab-df-convert {\n",
              "      background-color: #E8F0FE;\n",
              "      border: none;\n",
              "      border-radius: 50%;\n",
              "      cursor: pointer;\n",
              "      display: none;\n",
              "      fill: #1967D2;\n",
              "      height: 32px;\n",
              "      padding: 0 0 0 0;\n",
              "      width: 32px;\n",
              "    }\n",
              "\n",
              "    .colab-df-convert:hover {\n",
              "      background-color: #E2EBFA;\n",
              "      box-shadow: 0px 1px 2px rgba(60, 64, 67, 0.3), 0px 1px 3px 1px rgba(60, 64, 67, 0.15);\n",
              "      fill: #174EA6;\n",
              "    }\n",
              "\n",
              "    [theme=dark] .colab-df-convert {\n",
              "      background-color: #3B4455;\n",
              "      fill: #D2E3FC;\n",
              "    }\n",
              "\n",
              "    [theme=dark] .colab-df-convert:hover {\n",
              "      background-color: #434B5C;\n",
              "      box-shadow: 0px 1px 3px 1px rgba(0, 0, 0, 0.15);\n",
              "      filter: drop-shadow(0px 1px 2px rgba(0, 0, 0, 0.3));\n",
              "      fill: #FFFFFF;\n",
              "    }\n",
              "  </style>\n",
              "\n",
              "      <script>\n",
              "        const buttonEl =\n",
              "          document.querySelector('#df-df6d9bf2-7722-4622-8b5d-9006dab7e013 button.colab-df-convert');\n",
              "        buttonEl.style.display =\n",
              "          google.colab.kernel.accessAllowed ? 'block' : 'none';\n",
              "\n",
              "        async function convertToInteractive(key) {\n",
              "          const element = document.querySelector('#df-df6d9bf2-7722-4622-8b5d-9006dab7e013');\n",
              "          const dataTable =\n",
              "            await google.colab.kernel.invokeFunction('convertToInteractive',\n",
              "                                                     [key], {});\n",
              "          if (!dataTable) return;\n",
              "\n",
              "          const docLinkHtml = 'Like what you see? Visit the ' +\n",
              "            '<a target=\"_blank\" href=https://colab.research.google.com/notebooks/data_table.ipynb>data table notebook</a>'\n",
              "            + ' to learn more about interactive tables.';\n",
              "          element.innerHTML = '';\n",
              "          dataTable['output_type'] = 'display_data';\n",
              "          await google.colab.output.renderOutput(dataTable, element);\n",
              "          const docLink = document.createElement('div');\n",
              "          docLink.innerHTML = docLinkHtml;\n",
              "          element.appendChild(docLink);\n",
              "        }\n",
              "      </script>\n",
              "    </div>\n",
              "  </div>\n",
              "  "
            ]
          },
          "metadata": {},
          "execution_count": 12
        }
      ],
      "source": [
        "df = pd.read_csv('data_orders.csv')\n",
        "df.head()"
      ]
    },
    {
      "cell_type": "code",
      "execution_count": null,
      "metadata": {
        "id": "Pw-EBpD9KH_8",
        "colab": {
          "base_uri": "https://localhost:8080/"
        },
        "outputId": "e878fa60-6ef1-432e-8c64-4c30a026a23d"
      },
      "outputs": [
        {
          "output_type": "stream",
          "name": "stdout",
          "text": [
            "<class 'pandas.core.frame.DataFrame'>\n",
            "RangeIndex: 5009 entries, 0 to 5008\n",
            "Data columns (total 4 columns):\n",
            " #   Column       Non-Null Count  Dtype \n",
            "---  ------       --------------  ----- \n",
            " 0   order_date   5009 non-null   object\n",
            " 1   order_id     5009 non-null   object\n",
            " 2   customer     5009 non-null   object\n",
            " 3   grand_total  5009 non-null   int64 \n",
            "dtypes: int64(1), object(3)\n",
            "memory usage: 156.7+ KB\n"
          ]
        }
      ],
      "source": [
        "df.info()"
      ]
    },
    {
      "cell_type": "code",
      "execution_count": null,
      "metadata": {
        "id": "DumPZxW-Kjwk",
        "colab": {
          "base_uri": "https://localhost:8080/"
        },
        "outputId": "e692b3d6-1812-42a2-d48b-ed38840b5ed0"
      },
      "outputs": [
        {
          "output_type": "execute_result",
          "data": {
            "text/plain": [
              "order_date     0\n",
              "order_id       0\n",
              "customer       0\n",
              "grand_total    0\n",
              "dtype: int64"
            ]
          },
          "metadata": {},
          "execution_count": 14
        }
      ],
      "source": [
        "df.isna().sum()"
      ]
    },
    {
      "cell_type": "code",
      "execution_count": null,
      "metadata": {
        "id": "uXIRo0vtKmym",
        "colab": {
          "base_uri": "https://localhost:8080/",
          "height": 300
        },
        "outputId": "6a1ec993-8234-453a-b10a-837fdb1ec16d"
      },
      "outputs": [
        {
          "output_type": "execute_result",
          "data": {
            "text/plain": [
              "        grand_total\n",
              "count   5009.000000\n",
              "mean     458.626672\n",
              "std      954.729307\n",
              "min        1.000000\n",
              "25%       38.000000\n",
              "50%      152.000000\n",
              "75%      512.000000\n",
              "max    23661.000000"
            ],
            "text/html": [
              "\n",
              "  <div id=\"df-fbfc9cd1-ca2d-4746-bc79-ddc2afc6dcdd\">\n",
              "    <div class=\"colab-df-container\">\n",
              "      <div>\n",
              "<style scoped>\n",
              "    .dataframe tbody tr th:only-of-type {\n",
              "        vertical-align: middle;\n",
              "    }\n",
              "\n",
              "    .dataframe tbody tr th {\n",
              "        vertical-align: top;\n",
              "    }\n",
              "\n",
              "    .dataframe thead th {\n",
              "        text-align: right;\n",
              "    }\n",
              "</style>\n",
              "<table border=\"1\" class=\"dataframe\">\n",
              "  <thead>\n",
              "    <tr style=\"text-align: right;\">\n",
              "      <th></th>\n",
              "      <th>grand_total</th>\n",
              "    </tr>\n",
              "  </thead>\n",
              "  <tbody>\n",
              "    <tr>\n",
              "      <th>count</th>\n",
              "      <td>5009.000000</td>\n",
              "    </tr>\n",
              "    <tr>\n",
              "      <th>mean</th>\n",
              "      <td>458.626672</td>\n",
              "    </tr>\n",
              "    <tr>\n",
              "      <th>std</th>\n",
              "      <td>954.729307</td>\n",
              "    </tr>\n",
              "    <tr>\n",
              "      <th>min</th>\n",
              "      <td>1.000000</td>\n",
              "    </tr>\n",
              "    <tr>\n",
              "      <th>25%</th>\n",
              "      <td>38.000000</td>\n",
              "    </tr>\n",
              "    <tr>\n",
              "      <th>50%</th>\n",
              "      <td>152.000000</td>\n",
              "    </tr>\n",
              "    <tr>\n",
              "      <th>75%</th>\n",
              "      <td>512.000000</td>\n",
              "    </tr>\n",
              "    <tr>\n",
              "      <th>max</th>\n",
              "      <td>23661.000000</td>\n",
              "    </tr>\n",
              "  </tbody>\n",
              "</table>\n",
              "</div>\n",
              "      <button class=\"colab-df-convert\" onclick=\"convertToInteractive('df-fbfc9cd1-ca2d-4746-bc79-ddc2afc6dcdd')\"\n",
              "              title=\"Convert this dataframe to an interactive table.\"\n",
              "              style=\"display:none;\">\n",
              "        \n",
              "  <svg xmlns=\"http://www.w3.org/2000/svg\" height=\"24px\"viewBox=\"0 0 24 24\"\n",
              "       width=\"24px\">\n",
              "    <path d=\"M0 0h24v24H0V0z\" fill=\"none\"/>\n",
              "    <path d=\"M18.56 5.44l.94 2.06.94-2.06 2.06-.94-2.06-.94-.94-2.06-.94 2.06-2.06.94zm-11 1L8.5 8.5l.94-2.06 2.06-.94-2.06-.94L8.5 2.5l-.94 2.06-2.06.94zm10 10l.94 2.06.94-2.06 2.06-.94-2.06-.94-.94-2.06-.94 2.06-2.06.94z\"/><path d=\"M17.41 7.96l-1.37-1.37c-.4-.4-.92-.59-1.43-.59-.52 0-1.04.2-1.43.59L10.3 9.45l-7.72 7.72c-.78.78-.78 2.05 0 2.83L4 21.41c.39.39.9.59 1.41.59.51 0 1.02-.2 1.41-.59l7.78-7.78 2.81-2.81c.8-.78.8-2.07 0-2.86zM5.41 20L4 18.59l7.72-7.72 1.47 1.35L5.41 20z\"/>\n",
              "  </svg>\n",
              "      </button>\n",
              "      \n",
              "  <style>\n",
              "    .colab-df-container {\n",
              "      display:flex;\n",
              "      flex-wrap:wrap;\n",
              "      gap: 12px;\n",
              "    }\n",
              "\n",
              "    .colab-df-convert {\n",
              "      background-color: #E8F0FE;\n",
              "      border: none;\n",
              "      border-radius: 50%;\n",
              "      cursor: pointer;\n",
              "      display: none;\n",
              "      fill: #1967D2;\n",
              "      height: 32px;\n",
              "      padding: 0 0 0 0;\n",
              "      width: 32px;\n",
              "    }\n",
              "\n",
              "    .colab-df-convert:hover {\n",
              "      background-color: #E2EBFA;\n",
              "      box-shadow: 0px 1px 2px rgba(60, 64, 67, 0.3), 0px 1px 3px 1px rgba(60, 64, 67, 0.15);\n",
              "      fill: #174EA6;\n",
              "    }\n",
              "\n",
              "    [theme=dark] .colab-df-convert {\n",
              "      background-color: #3B4455;\n",
              "      fill: #D2E3FC;\n",
              "    }\n",
              "\n",
              "    [theme=dark] .colab-df-convert:hover {\n",
              "      background-color: #434B5C;\n",
              "      box-shadow: 0px 1px 3px 1px rgba(0, 0, 0, 0.15);\n",
              "      filter: drop-shadow(0px 1px 2px rgba(0, 0, 0, 0.3));\n",
              "      fill: #FFFFFF;\n",
              "    }\n",
              "  </style>\n",
              "\n",
              "      <script>\n",
              "        const buttonEl =\n",
              "          document.querySelector('#df-fbfc9cd1-ca2d-4746-bc79-ddc2afc6dcdd button.colab-df-convert');\n",
              "        buttonEl.style.display =\n",
              "          google.colab.kernel.accessAllowed ? 'block' : 'none';\n",
              "\n",
              "        async function convertToInteractive(key) {\n",
              "          const element = document.querySelector('#df-fbfc9cd1-ca2d-4746-bc79-ddc2afc6dcdd');\n",
              "          const dataTable =\n",
              "            await google.colab.kernel.invokeFunction('convertToInteractive',\n",
              "                                                     [key], {});\n",
              "          if (!dataTable) return;\n",
              "\n",
              "          const docLinkHtml = 'Like what you see? Visit the ' +\n",
              "            '<a target=\"_blank\" href=https://colab.research.google.com/notebooks/data_table.ipynb>data table notebook</a>'\n",
              "            + ' to learn more about interactive tables.';\n",
              "          element.innerHTML = '';\n",
              "          dataTable['output_type'] = 'display_data';\n",
              "          await google.colab.output.renderOutput(dataTable, element);\n",
              "          const docLink = document.createElement('div');\n",
              "          docLink.innerHTML = docLinkHtml;\n",
              "          element.appendChild(docLink);\n",
              "        }\n",
              "      </script>\n",
              "    </div>\n",
              "  </div>\n",
              "  "
            ]
          },
          "metadata": {},
          "execution_count": 15
        }
      ],
      "source": [
        "df.describe()"
      ]
    },
    {
      "cell_type": "markdown",
      "metadata": {
        "id": "PWfJwVcTANoe"
      },
      "source": [
        "Based on the data above, we can see that the average customer purchases products with a total price abput **458 dollar**, the customer with the lowest purchase is at **1 dollar** and the highest purchase is at **23661 dollar**"
      ]
    },
    {
      "cell_type": "markdown",
      "metadata": {
        "id": "gXrxfltnKuCI"
      },
      "source": [
        "# Data Cleansing"
      ]
    },
    {
      "cell_type": "code",
      "execution_count": null,
      "metadata": {
        "id": "2Ge6Cse4K9NJ"
      },
      "outputs": [],
      "source": [
        "df['order_date'] = pd.to_datetime(df['order_date'])\n",
        "df['OrderYearMonth'] = df['order_date'].map(lambda date: 100*date.year + date.month)\n",
        "df['Date'] = df['order_date'].dt.strftime('%Y-%m')\n",
        "df['Year'] = df['order_date'].dt.strftime('%Y')"
      ]
    },
    {
      "cell_type": "code",
      "execution_count": null,
      "metadata": {
        "id": "Qe_yiurrrGys",
        "colab": {
          "base_uri": "https://localhost:8080/",
          "height": 206
        },
        "outputId": "683fc36e-d327-434d-b26a-83a47f2ab457"
      },
      "outputs": [
        {
          "output_type": "execute_result",
          "data": {
            "text/plain": [
              "  order_date        order_id          customer  grand_total  OrderYearMonth  \\\n",
              "0 2011-09-07  CA-2011-100006       Dennis Kane          378          201109   \n",
              "1 2011-07-08  CA-2011-100090        Ed Braxton          699          201107   \n",
              "2 2011-03-14  CA-2011-100293  Neil Franzšsisch           91          201103   \n",
              "3 2011-01-29  CA-2011-100328   Jasper Cacioppo            4          201101   \n",
              "4 2011-04-08  CA-2011-100363       Jim Mitchum           21          201104   \n",
              "\n",
              "      Date  Year  \n",
              "0  2011-09  2011  \n",
              "1  2011-07  2011  \n",
              "2  2011-03  2011  \n",
              "3  2011-01  2011  \n",
              "4  2011-04  2011  "
            ],
            "text/html": [
              "\n",
              "  <div id=\"df-e5ade70d-94a9-45e4-bed3-5922c29c781f\">\n",
              "    <div class=\"colab-df-container\">\n",
              "      <div>\n",
              "<style scoped>\n",
              "    .dataframe tbody tr th:only-of-type {\n",
              "        vertical-align: middle;\n",
              "    }\n",
              "\n",
              "    .dataframe tbody tr th {\n",
              "        vertical-align: top;\n",
              "    }\n",
              "\n",
              "    .dataframe thead th {\n",
              "        text-align: right;\n",
              "    }\n",
              "</style>\n",
              "<table border=\"1\" class=\"dataframe\">\n",
              "  <thead>\n",
              "    <tr style=\"text-align: right;\">\n",
              "      <th></th>\n",
              "      <th>order_date</th>\n",
              "      <th>order_id</th>\n",
              "      <th>customer</th>\n",
              "      <th>grand_total</th>\n",
              "      <th>OrderYearMonth</th>\n",
              "      <th>Date</th>\n",
              "      <th>Year</th>\n",
              "    </tr>\n",
              "  </thead>\n",
              "  <tbody>\n",
              "    <tr>\n",
              "      <th>0</th>\n",
              "      <td>2011-09-07</td>\n",
              "      <td>CA-2011-100006</td>\n",
              "      <td>Dennis Kane</td>\n",
              "      <td>378</td>\n",
              "      <td>201109</td>\n",
              "      <td>2011-09</td>\n",
              "      <td>2011</td>\n",
              "    </tr>\n",
              "    <tr>\n",
              "      <th>1</th>\n",
              "      <td>2011-07-08</td>\n",
              "      <td>CA-2011-100090</td>\n",
              "      <td>Ed Braxton</td>\n",
              "      <td>699</td>\n",
              "      <td>201107</td>\n",
              "      <td>2011-07</td>\n",
              "      <td>2011</td>\n",
              "    </tr>\n",
              "    <tr>\n",
              "      <th>2</th>\n",
              "      <td>2011-03-14</td>\n",
              "      <td>CA-2011-100293</td>\n",
              "      <td>Neil Franzšsisch</td>\n",
              "      <td>91</td>\n",
              "      <td>201103</td>\n",
              "      <td>2011-03</td>\n",
              "      <td>2011</td>\n",
              "    </tr>\n",
              "    <tr>\n",
              "      <th>3</th>\n",
              "      <td>2011-01-29</td>\n",
              "      <td>CA-2011-100328</td>\n",
              "      <td>Jasper Cacioppo</td>\n",
              "      <td>4</td>\n",
              "      <td>201101</td>\n",
              "      <td>2011-01</td>\n",
              "      <td>2011</td>\n",
              "    </tr>\n",
              "    <tr>\n",
              "      <th>4</th>\n",
              "      <td>2011-04-08</td>\n",
              "      <td>CA-2011-100363</td>\n",
              "      <td>Jim Mitchum</td>\n",
              "      <td>21</td>\n",
              "      <td>201104</td>\n",
              "      <td>2011-04</td>\n",
              "      <td>2011</td>\n",
              "    </tr>\n",
              "  </tbody>\n",
              "</table>\n",
              "</div>\n",
              "      <button class=\"colab-df-convert\" onclick=\"convertToInteractive('df-e5ade70d-94a9-45e4-bed3-5922c29c781f')\"\n",
              "              title=\"Convert this dataframe to an interactive table.\"\n",
              "              style=\"display:none;\">\n",
              "        \n",
              "  <svg xmlns=\"http://www.w3.org/2000/svg\" height=\"24px\"viewBox=\"0 0 24 24\"\n",
              "       width=\"24px\">\n",
              "    <path d=\"M0 0h24v24H0V0z\" fill=\"none\"/>\n",
              "    <path d=\"M18.56 5.44l.94 2.06.94-2.06 2.06-.94-2.06-.94-.94-2.06-.94 2.06-2.06.94zm-11 1L8.5 8.5l.94-2.06 2.06-.94-2.06-.94L8.5 2.5l-.94 2.06-2.06.94zm10 10l.94 2.06.94-2.06 2.06-.94-2.06-.94-.94-2.06-.94 2.06-2.06.94z\"/><path d=\"M17.41 7.96l-1.37-1.37c-.4-.4-.92-.59-1.43-.59-.52 0-1.04.2-1.43.59L10.3 9.45l-7.72 7.72c-.78.78-.78 2.05 0 2.83L4 21.41c.39.39.9.59 1.41.59.51 0 1.02-.2 1.41-.59l7.78-7.78 2.81-2.81c.8-.78.8-2.07 0-2.86zM5.41 20L4 18.59l7.72-7.72 1.47 1.35L5.41 20z\"/>\n",
              "  </svg>\n",
              "      </button>\n",
              "      \n",
              "  <style>\n",
              "    .colab-df-container {\n",
              "      display:flex;\n",
              "      flex-wrap:wrap;\n",
              "      gap: 12px;\n",
              "    }\n",
              "\n",
              "    .colab-df-convert {\n",
              "      background-color: #E8F0FE;\n",
              "      border: none;\n",
              "      border-radius: 50%;\n",
              "      cursor: pointer;\n",
              "      display: none;\n",
              "      fill: #1967D2;\n",
              "      height: 32px;\n",
              "      padding: 0 0 0 0;\n",
              "      width: 32px;\n",
              "    }\n",
              "\n",
              "    .colab-df-convert:hover {\n",
              "      background-color: #E2EBFA;\n",
              "      box-shadow: 0px 1px 2px rgba(60, 64, 67, 0.3), 0px 1px 3px 1px rgba(60, 64, 67, 0.15);\n",
              "      fill: #174EA6;\n",
              "    }\n",
              "\n",
              "    [theme=dark] .colab-df-convert {\n",
              "      background-color: #3B4455;\n",
              "      fill: #D2E3FC;\n",
              "    }\n",
              "\n",
              "    [theme=dark] .colab-df-convert:hover {\n",
              "      background-color: #434B5C;\n",
              "      box-shadow: 0px 1px 3px 1px rgba(0, 0, 0, 0.15);\n",
              "      filter: drop-shadow(0px 1px 2px rgba(0, 0, 0, 0.3));\n",
              "      fill: #FFFFFF;\n",
              "    }\n",
              "  </style>\n",
              "\n",
              "      <script>\n",
              "        const buttonEl =\n",
              "          document.querySelector('#df-e5ade70d-94a9-45e4-bed3-5922c29c781f button.colab-df-convert');\n",
              "        buttonEl.style.display =\n",
              "          google.colab.kernel.accessAllowed ? 'block' : 'none';\n",
              "\n",
              "        async function convertToInteractive(key) {\n",
              "          const element = document.querySelector('#df-e5ade70d-94a9-45e4-bed3-5922c29c781f');\n",
              "          const dataTable =\n",
              "            await google.colab.kernel.invokeFunction('convertToInteractive',\n",
              "                                                     [key], {});\n",
              "          if (!dataTable) return;\n",
              "\n",
              "          const docLinkHtml = 'Like what you see? Visit the ' +\n",
              "            '<a target=\"_blank\" href=https://colab.research.google.com/notebooks/data_table.ipynb>data table notebook</a>'\n",
              "            + ' to learn more about interactive tables.';\n",
              "          element.innerHTML = '';\n",
              "          dataTable['output_type'] = 'display_data';\n",
              "          await google.colab.output.renderOutput(dataTable, element);\n",
              "          const docLink = document.createElement('div');\n",
              "          docLink.innerHTML = docLinkHtml;\n",
              "          element.appendChild(docLink);\n",
              "        }\n",
              "      </script>\n",
              "    </div>\n",
              "  </div>\n",
              "  "
            ]
          },
          "metadata": {},
          "execution_count": 17
        }
      ],
      "source": [
        "df.head()"
      ]
    },
    {
      "cell_type": "markdown",
      "metadata": {
        "id": "7NyMoAiXK4WC"
      },
      "source": [
        "# EDA"
      ]
    },
    {
      "cell_type": "code",
      "execution_count": null,
      "metadata": {
        "id": "1tZpeph2rMV4",
        "colab": {
          "base_uri": "https://localhost:8080/"
        },
        "outputId": "feebc153-e09d-4638-9ce4-e70d908ee798"
      },
      "outputs": [
        {
          "output_type": "stream",
          "name": "stdout",
          "text": [
            "2011-01-04 00:00:00\n",
            "2014-12-31 00:00:00\n"
          ]
        }
      ],
      "source": [
        "print(df['order_date'].min())\n",
        "print(df['order_date'].max())"
      ]
    },
    {
      "cell_type": "markdown",
      "metadata": {
        "id": "4Q_ccQKnDDAr"
      },
      "source": [
        "Order data is a record of customer purchase data from January 4, 2011 to December 31, 2014"
      ]
    },
    {
      "cell_type": "code",
      "execution_count": null,
      "metadata": {
        "id": "Sra1n0yfrQcM",
        "colab": {
          "base_uri": "https://localhost:8080/"
        },
        "outputId": "165def21-f5e1-41d6-9359-23b606ba4860"
      },
      "outputs": [
        {
          "output_type": "execute_result",
          "data": {
            "text/plain": [
              "Year  Date   \n",
              "2011  2011-01    13949\n",
              "      2011-02     4810\n",
              "      2011-03    55695\n",
              "      2011-04    28298\n",
              "      2011-05    23647\n",
              "Name: grand_total, dtype: int64"
            ]
          },
          "metadata": {},
          "execution_count": 19
        }
      ],
      "source": [
        "# agregrat order by month\n",
        "\n",
        "df_agg = df.groupby(['Year','Date']).grand_total.sum()\n",
        "df_agg.head()"
      ]
    },
    {
      "cell_type": "code",
      "execution_count": null,
      "metadata": {
        "id": "SCmaS6IosdZS",
        "colab": {
          "base_uri": "https://localhost:8080/",
          "height": 206
        },
        "outputId": "23c74e08-d9c9-4f4c-e922-3b3b96e8334d"
      },
      "outputs": [
        {
          "output_type": "execute_result",
          "data": {
            "text/plain": [
              "   Year     Date  grand_total\n",
              "0  2011  2011-01        13949\n",
              "1  2011  2011-02         4810\n",
              "2  2011  2011-03        55695\n",
              "3  2011  2011-04        28298\n",
              "4  2011  2011-05        23647"
            ],
            "text/html": [
              "\n",
              "  <div id=\"df-4f73edf8-f77c-4183-8e9f-c33d31ae0058\">\n",
              "    <div class=\"colab-df-container\">\n",
              "      <div>\n",
              "<style scoped>\n",
              "    .dataframe tbody tr th:only-of-type {\n",
              "        vertical-align: middle;\n",
              "    }\n",
              "\n",
              "    .dataframe tbody tr th {\n",
              "        vertical-align: top;\n",
              "    }\n",
              "\n",
              "    .dataframe thead th {\n",
              "        text-align: right;\n",
              "    }\n",
              "</style>\n",
              "<table border=\"1\" class=\"dataframe\">\n",
              "  <thead>\n",
              "    <tr style=\"text-align: right;\">\n",
              "      <th></th>\n",
              "      <th>Year</th>\n",
              "      <th>Date</th>\n",
              "      <th>grand_total</th>\n",
              "    </tr>\n",
              "  </thead>\n",
              "  <tbody>\n",
              "    <tr>\n",
              "      <th>0</th>\n",
              "      <td>2011</td>\n",
              "      <td>2011-01</td>\n",
              "      <td>13949</td>\n",
              "    </tr>\n",
              "    <tr>\n",
              "      <th>1</th>\n",
              "      <td>2011</td>\n",
              "      <td>2011-02</td>\n",
              "      <td>4810</td>\n",
              "    </tr>\n",
              "    <tr>\n",
              "      <th>2</th>\n",
              "      <td>2011</td>\n",
              "      <td>2011-03</td>\n",
              "      <td>55695</td>\n",
              "    </tr>\n",
              "    <tr>\n",
              "      <th>3</th>\n",
              "      <td>2011</td>\n",
              "      <td>2011-04</td>\n",
              "      <td>28298</td>\n",
              "    </tr>\n",
              "    <tr>\n",
              "      <th>4</th>\n",
              "      <td>2011</td>\n",
              "      <td>2011-05</td>\n",
              "      <td>23647</td>\n",
              "    </tr>\n",
              "  </tbody>\n",
              "</table>\n",
              "</div>\n",
              "      <button class=\"colab-df-convert\" onclick=\"convertToInteractive('df-4f73edf8-f77c-4183-8e9f-c33d31ae0058')\"\n",
              "              title=\"Convert this dataframe to an interactive table.\"\n",
              "              style=\"display:none;\">\n",
              "        \n",
              "  <svg xmlns=\"http://www.w3.org/2000/svg\" height=\"24px\"viewBox=\"0 0 24 24\"\n",
              "       width=\"24px\">\n",
              "    <path d=\"M0 0h24v24H0V0z\" fill=\"none\"/>\n",
              "    <path d=\"M18.56 5.44l.94 2.06.94-2.06 2.06-.94-2.06-.94-.94-2.06-.94 2.06-2.06.94zm-11 1L8.5 8.5l.94-2.06 2.06-.94-2.06-.94L8.5 2.5l-.94 2.06-2.06.94zm10 10l.94 2.06.94-2.06 2.06-.94-2.06-.94-.94-2.06-.94 2.06-2.06.94z\"/><path d=\"M17.41 7.96l-1.37-1.37c-.4-.4-.92-.59-1.43-.59-.52 0-1.04.2-1.43.59L10.3 9.45l-7.72 7.72c-.78.78-.78 2.05 0 2.83L4 21.41c.39.39.9.59 1.41.59.51 0 1.02-.2 1.41-.59l7.78-7.78 2.81-2.81c.8-.78.8-2.07 0-2.86zM5.41 20L4 18.59l7.72-7.72 1.47 1.35L5.41 20z\"/>\n",
              "  </svg>\n",
              "      </button>\n",
              "      \n",
              "  <style>\n",
              "    .colab-df-container {\n",
              "      display:flex;\n",
              "      flex-wrap:wrap;\n",
              "      gap: 12px;\n",
              "    }\n",
              "\n",
              "    .colab-df-convert {\n",
              "      background-color: #E8F0FE;\n",
              "      border: none;\n",
              "      border-radius: 50%;\n",
              "      cursor: pointer;\n",
              "      display: none;\n",
              "      fill: #1967D2;\n",
              "      height: 32px;\n",
              "      padding: 0 0 0 0;\n",
              "      width: 32px;\n",
              "    }\n",
              "\n",
              "    .colab-df-convert:hover {\n",
              "      background-color: #E2EBFA;\n",
              "      box-shadow: 0px 1px 2px rgba(60, 64, 67, 0.3), 0px 1px 3px 1px rgba(60, 64, 67, 0.15);\n",
              "      fill: #174EA6;\n",
              "    }\n",
              "\n",
              "    [theme=dark] .colab-df-convert {\n",
              "      background-color: #3B4455;\n",
              "      fill: #D2E3FC;\n",
              "    }\n",
              "\n",
              "    [theme=dark] .colab-df-convert:hover {\n",
              "      background-color: #434B5C;\n",
              "      box-shadow: 0px 1px 3px 1px rgba(0, 0, 0, 0.15);\n",
              "      filter: drop-shadow(0px 1px 2px rgba(0, 0, 0, 0.3));\n",
              "      fill: #FFFFFF;\n",
              "    }\n",
              "  </style>\n",
              "\n",
              "      <script>\n",
              "        const buttonEl =\n",
              "          document.querySelector('#df-4f73edf8-f77c-4183-8e9f-c33d31ae0058 button.colab-df-convert');\n",
              "        buttonEl.style.display =\n",
              "          google.colab.kernel.accessAllowed ? 'block' : 'none';\n",
              "\n",
              "        async function convertToInteractive(key) {\n",
              "          const element = document.querySelector('#df-4f73edf8-f77c-4183-8e9f-c33d31ae0058');\n",
              "          const dataTable =\n",
              "            await google.colab.kernel.invokeFunction('convertToInteractive',\n",
              "                                                     [key], {});\n",
              "          if (!dataTable) return;\n",
              "\n",
              "          const docLinkHtml = 'Like what you see? Visit the ' +\n",
              "            '<a target=\"_blank\" href=https://colab.research.google.com/notebooks/data_table.ipynb>data table notebook</a>'\n",
              "            + ' to learn more about interactive tables.';\n",
              "          element.innerHTML = '';\n",
              "          dataTable['output_type'] = 'display_data';\n",
              "          await google.colab.output.renderOutput(dataTable, element);\n",
              "          const docLink = document.createElement('div');\n",
              "          docLink.innerHTML = docLinkHtml;\n",
              "          element.appendChild(docLink);\n",
              "        }\n",
              "      </script>\n",
              "    </div>\n",
              "  </div>\n",
              "  "
            ]
          },
          "metadata": {},
          "execution_count": 20
        }
      ],
      "source": [
        "# converting series to dataframe and resetting index\n",
        "\n",
        "df_agg = pd.DataFrame(df_agg)\n",
        "df_agg = df_agg.reset_index()\n",
        "df_agg.head()"
      ]
    },
    {
      "cell_type": "code",
      "execution_count": null,
      "metadata": {
        "id": "wR3BxqZmzjQs",
        "colab": {
          "base_uri": "https://localhost:8080/",
          "height": 206
        },
        "outputId": "5f29b5ac-8427-458e-9c8a-16a066a4125d"
      },
      "outputs": [
        {
          "output_type": "execute_result",
          "data": {
            "text/plain": [
              "   OrderYearMonth  grand_total\n",
              "0          201101        13949\n",
              "1          201102         4810\n",
              "2          201103        55695\n",
              "3          201104        28298\n",
              "4          201105        23647"
            ],
            "text/html": [
              "\n",
              "  <div id=\"df-3f089d06-8827-4b6e-9eda-b99bd27ff13d\">\n",
              "    <div class=\"colab-df-container\">\n",
              "      <div>\n",
              "<style scoped>\n",
              "    .dataframe tbody tr th:only-of-type {\n",
              "        vertical-align: middle;\n",
              "    }\n",
              "\n",
              "    .dataframe tbody tr th {\n",
              "        vertical-align: top;\n",
              "    }\n",
              "\n",
              "    .dataframe thead th {\n",
              "        text-align: right;\n",
              "    }\n",
              "</style>\n",
              "<table border=\"1\" class=\"dataframe\">\n",
              "  <thead>\n",
              "    <tr style=\"text-align: right;\">\n",
              "      <th></th>\n",
              "      <th>OrderYearMonth</th>\n",
              "      <th>grand_total</th>\n",
              "    </tr>\n",
              "  </thead>\n",
              "  <tbody>\n",
              "    <tr>\n",
              "      <th>0</th>\n",
              "      <td>201101</td>\n",
              "      <td>13949</td>\n",
              "    </tr>\n",
              "    <tr>\n",
              "      <th>1</th>\n",
              "      <td>201102</td>\n",
              "      <td>4810</td>\n",
              "    </tr>\n",
              "    <tr>\n",
              "      <th>2</th>\n",
              "      <td>201103</td>\n",
              "      <td>55695</td>\n",
              "    </tr>\n",
              "    <tr>\n",
              "      <th>3</th>\n",
              "      <td>201104</td>\n",
              "      <td>28298</td>\n",
              "    </tr>\n",
              "    <tr>\n",
              "      <th>4</th>\n",
              "      <td>201105</td>\n",
              "      <td>23647</td>\n",
              "    </tr>\n",
              "  </tbody>\n",
              "</table>\n",
              "</div>\n",
              "      <button class=\"colab-df-convert\" onclick=\"convertToInteractive('df-3f089d06-8827-4b6e-9eda-b99bd27ff13d')\"\n",
              "              title=\"Convert this dataframe to an interactive table.\"\n",
              "              style=\"display:none;\">\n",
              "        \n",
              "  <svg xmlns=\"http://www.w3.org/2000/svg\" height=\"24px\"viewBox=\"0 0 24 24\"\n",
              "       width=\"24px\">\n",
              "    <path d=\"M0 0h24v24H0V0z\" fill=\"none\"/>\n",
              "    <path d=\"M18.56 5.44l.94 2.06.94-2.06 2.06-.94-2.06-.94-.94-2.06-.94 2.06-2.06.94zm-11 1L8.5 8.5l.94-2.06 2.06-.94-2.06-.94L8.5 2.5l-.94 2.06-2.06.94zm10 10l.94 2.06.94-2.06 2.06-.94-2.06-.94-.94-2.06-.94 2.06-2.06.94z\"/><path d=\"M17.41 7.96l-1.37-1.37c-.4-.4-.92-.59-1.43-.59-.52 0-1.04.2-1.43.59L10.3 9.45l-7.72 7.72c-.78.78-.78 2.05 0 2.83L4 21.41c.39.39.9.59 1.41.59.51 0 1.02-.2 1.41-.59l7.78-7.78 2.81-2.81c.8-.78.8-2.07 0-2.86zM5.41 20L4 18.59l7.72-7.72 1.47 1.35L5.41 20z\"/>\n",
              "  </svg>\n",
              "      </button>\n",
              "      \n",
              "  <style>\n",
              "    .colab-df-container {\n",
              "      display:flex;\n",
              "      flex-wrap:wrap;\n",
              "      gap: 12px;\n",
              "    }\n",
              "\n",
              "    .colab-df-convert {\n",
              "      background-color: #E8F0FE;\n",
              "      border: none;\n",
              "      border-radius: 50%;\n",
              "      cursor: pointer;\n",
              "      display: none;\n",
              "      fill: #1967D2;\n",
              "      height: 32px;\n",
              "      padding: 0 0 0 0;\n",
              "      width: 32px;\n",
              "    }\n",
              "\n",
              "    .colab-df-convert:hover {\n",
              "      background-color: #E2EBFA;\n",
              "      box-shadow: 0px 1px 2px rgba(60, 64, 67, 0.3), 0px 1px 3px 1px rgba(60, 64, 67, 0.15);\n",
              "      fill: #174EA6;\n",
              "    }\n",
              "\n",
              "    [theme=dark] .colab-df-convert {\n",
              "      background-color: #3B4455;\n",
              "      fill: #D2E3FC;\n",
              "    }\n",
              "\n",
              "    [theme=dark] .colab-df-convert:hover {\n",
              "      background-color: #434B5C;\n",
              "      box-shadow: 0px 1px 3px 1px rgba(0, 0, 0, 0.15);\n",
              "      filter: drop-shadow(0px 1px 2px rgba(0, 0, 0, 0.3));\n",
              "      fill: #FFFFFF;\n",
              "    }\n",
              "  </style>\n",
              "\n",
              "      <script>\n",
              "        const buttonEl =\n",
              "          document.querySelector('#df-3f089d06-8827-4b6e-9eda-b99bd27ff13d button.colab-df-convert');\n",
              "        buttonEl.style.display =\n",
              "          google.colab.kernel.accessAllowed ? 'block' : 'none';\n",
              "\n",
              "        async function convertToInteractive(key) {\n",
              "          const element = document.querySelector('#df-3f089d06-8827-4b6e-9eda-b99bd27ff13d');\n",
              "          const dataTable =\n",
              "            await google.colab.kernel.invokeFunction('convertToInteractive',\n",
              "                                                     [key], {});\n",
              "          if (!dataTable) return;\n",
              "\n",
              "          const docLinkHtml = 'Like what you see? Visit the ' +\n",
              "            '<a target=\"_blank\" href=https://colab.research.google.com/notebooks/data_table.ipynb>data table notebook</a>'\n",
              "            + ' to learn more about interactive tables.';\n",
              "          element.innerHTML = '';\n",
              "          dataTable['output_type'] = 'display_data';\n",
              "          await google.colab.output.renderOutput(dataTable, element);\n",
              "          const docLink = document.createElement('div');\n",
              "          docLink.innerHTML = docLinkHtml;\n",
              "          element.appendChild(docLink);\n",
              "        }\n",
              "      </script>\n",
              "    </div>\n",
              "  </div>\n",
              "  "
            ]
          },
          "metadata": {},
          "execution_count": 21
        }
      ],
      "source": [
        "# monthly grand_total\n",
        "\n",
        "dfgrand_total=df.groupby(['OrderYearMonth'])['grand_total'].sum().reset_index()\n",
        "dfgrand_total.head()"
      ]
    },
    {
      "cell_type": "code",
      "execution_count": null,
      "metadata": {
        "id": "ERQoUYLPhN2x"
      },
      "outputs": [],
      "source": [
        "def plot_df(df, x, y, title=\"\",xlabel=\"Date\", ylabel=\"Quantity\", dpi = 100):\n",
        "  plt.figure(figsize=(16,5), dpi=dpi)\n",
        "  plt.gca().set(title=title, xlabel=xlabel, ylabel=ylabel)\n",
        "  plt.plot(x,y, color='#404258', marker = 'o')\n",
        "  plt.show()"
      ]
    },
    {
      "cell_type": "code",
      "execution_count": null,
      "metadata": {
        "id": "ASJJaEo2iCkl",
        "colab": {
          "base_uri": "https://localhost:8080/",
          "height": 364
        },
        "outputId": "110fb456-256b-4adc-9a16-dd520c03c1fc"
      },
      "outputs": [
        {
          "output_type": "display_data",
          "data": {
            "text/plain": [
              "<Figure size 1600x500 with 1 Axes>"
            ],
            "image/png": "[encoded data removed]"
          },
          "metadata": {
            "needs_background": "light"
          }
        }
      ],
      "source": [
        "plot_df(df_agg.query(\"Year == '2011'\"), x = df_agg.query(\"Year == '2011'\").Date, y=df_agg.query(\"Year == '2011'\").grand_total, title ='Grand Total in 2011', ylabel=\"Grand Total\")"
      ]
    },
    {
      "cell_type": "code",
      "execution_count": null,
      "metadata": {
        "id": "7FlybSSlaL80",
        "colab": {
          "base_uri": "https://localhost:8080/"
        },
        "outputId": "392ab5a0-fabd-4e83-9435-0bba3dade2db"
      },
      "outputs": [
        {
          "output_type": "stream",
          "name": "stdout",
          "text": [
            "The percentage increase on customer spend by annualy : 398.58\n"
          ]
        }
      ],
      "source": [
        "p_increase = ((df_agg[df_agg['Date']=='2011-12'].grand_total.iloc[0]-df_agg[df_agg['Date']=='2011-01'].grand_total.iloc[0])/df_agg[df_agg['Date']=='2011-01'].grand_total.iloc[0])*100\n",
        "print('The percentage increase on customer spend by annualy : %.2f'%p_increase)"
      ]
    },
    {
      "cell_type": "markdown",
      "metadata": {
        "id": "IqoOZXr-lBQo"
      },
      "source": [
        "Based on the graph above, it can be seen that in 2011, the trend of total customer purchases increased, although in 2011 there was a **significant decrease** in the second month which reached **the lowest point of 4810**, and **reached the peak/all time high 2011** in the 9th month of the year which **reached 81784**. On an annual basis, **Customer spend increased by 398.58%**"
      ]
    },
    {
      "cell_type": "code",
      "execution_count": null,
      "metadata": {
        "id": "8wWiO5T7mN6L",
        "colab": {
          "base_uri": "https://localhost:8080/",
          "height": 364
        },
        "outputId": "36f1133e-c086-4c31-84ed-c53dd8b3cab0"
      },
      "outputs": [
        {
          "output_type": "display_data",
          "data": {
            "text/plain": [
              "<Figure size 1600x500 with 1 Axes>"
            ],
            "image/png": "[encoded data removed]"
          },
          "metadata": {
            "needs_background": "light"
          }
        }
      ],
      "source": [
        "plot_df(df_agg.query(\"Year == '2012'\"), x = df_agg.query(\"Year == '2012'\").Date, y=df_agg.query(\"Year == '2012'\").grand_total, title ='Grand Total in 2012', ylabel=\"Grand Total\")"
      ]
    },
    {
      "cell_type": "code",
      "execution_count": null,
      "metadata": {
        "id": "NXw3SH01aL83",
        "colab": {
          "base_uri": "https://localhost:8080/"
        },
        "outputId": "1017048c-030f-4568-b33a-d34622bbd3d2"
      },
      "outputs": [
        {
          "output_type": "stream",
          "name": "stdout",
          "text": [
            "The percentage increase on customer spend by annualy : 312.23\n"
          ]
        }
      ],
      "source": [
        "p_increase = ((df_agg[df_agg['Date']=='2012-12'].grand_total.iloc[0]-df_agg[df_agg['Date']=='2012-01'].grand_total.iloc[0])/df_agg[df_agg['Date']=='2012-01'].grand_total.iloc[0])*100\n",
        "print('The percentage increase on customer spend by annualy : %.2f'%p_increase)"
      ]
    },
    {
      "cell_type": "markdown",
      "metadata": {
        "id": "giq0RFZgaL83"
      },
      "source": [
        "Based on the graph above, it can be seen that in 2012, the trend of total customer purchases increased, although in 2012 there was a **significant decrease** in the second month which reached **the lowest point of 12211**, and **reached the peak/all time high 2012** in the 11th month of the year which **reached 75968**. On an annual basis, **Customer spend increased by 312.23%**"
      ]
    },
    {
      "cell_type": "code",
      "execution_count": null,
      "metadata": {
        "id": "utbDEyb8nUCA",
        "colab": {
          "base_uri": "https://localhost:8080/",
          "height": 362
        },
        "outputId": "4e1a3a06-e402-466b-ae2b-c091287e6735"
      },
      "outputs": [
        {
          "output_type": "display_data",
          "data": {
            "text/plain": [
              "<Figure size 1600x500 with 1 Axes>"
            ],
            "image/png": "[encoded data removed]"
          },
          "metadata": {
            "needs_background": "light"
          }
        }
      ],
      "source": [
        "plot_df(df_agg.query(\"Year == '2013'\"), x = df_agg.query(\"Year == '2013'\").Date, y=df_agg.query(\"Year == '2013'\").grand_total, title ='Grand Total in 2013', ylabel=\"Grand Total\")"
      ]
    },
    {
      "cell_type": "code",
      "execution_count": null,
      "metadata": {
        "id": "UuuzgGKbaL84",
        "colab": {
          "base_uri": "https://localhost:8080/"
        },
        "outputId": "c2e253a7-5913-4659-e174-025133a819fa"
      },
      "outputs": [
        {
          "output_type": "stream",
          "name": "stdout",
          "text": [
            "The percentage increase on customer spend by annualy : 424.42\n"
          ]
        }
      ],
      "source": [
        "p_increase = ((df_agg[df_agg['Date']=='2013-12'].grand_total.iloc[0]-df_agg[df_agg['Date']=='2013-01'].grand_total.iloc[0])/df_agg[df_agg['Date']=='2013-01'].grand_total.iloc[0])*100\n",
        "print('The percentage increase on customer spend by annualy : %.2f'%p_increase)"
      ]
    },
    {
      "cell_type": "markdown",
      "metadata": {
        "id": "u0xsW0PfaL85"
      },
      "source": [
        "Based on the graph above, it can be seen that in 2013, the trend of total customer purchases increased, although in 2013 there was a **significant decrease** in the first month which reached **the lowest point of 18543**, and **reached the peak/all time high 2013** in the last month of the year which **reached 97244**. On an annual basis, **Customer spend increased by 424.42%**"
      ]
    },
    {
      "cell_type": "code",
      "execution_count": null,
      "metadata": {
        "id": "rnO_JGFFn-6L",
        "colab": {
          "base_uri": "https://localhost:8080/",
          "height": 362
        },
        "outputId": "0aa9eca5-6f05-4de3-d0ef-649e7a699abb"
      },
      "outputs": [
        {
          "output_type": "display_data",
          "data": {
            "text/plain": [
              "<Figure size 1600x500 with 1 Axes>"
            ],
            "image/png": "[encoded data removed]"
          },
          "metadata": {
            "needs_background": "light"
          }
        }
      ],
      "source": [
        "plot_df(df_agg.query(\"Year == '2014'\"), x = df_agg.query(\"Year == '2014'\").Date, y=df_agg.query(\"Year == '2014'\").grand_total, title ='Grand Total in 2014', ylabel=\"Grand Total\")"
      ]
    },
    {
      "cell_type": "code",
      "execution_count": null,
      "metadata": {
        "id": "eN46QxvpaL86",
        "colab": {
          "base_uri": "https://localhost:8080/"
        },
        "outputId": "96cbb876-36b4-49fa-d47c-a83f6709453f"
      },
      "outputs": [
        {
          "output_type": "stream",
          "name": "stdout",
          "text": [
            "The percentage increase on customer spend by annualy : 102.38\n"
          ]
        }
      ],
      "source": [
        "p_increase = ((df_agg[df_agg['Date']=='2014-12'].grand_total.iloc[0]-df_agg[df_agg['Date']=='2014-01'].grand_total.iloc[0])/df_agg[df_agg['Date']=='2014-01'].grand_total.iloc[0])*100\n",
        "print('The percentage increase on customer spend by annualy : %.2f'%p_increase)"
      ]
    },
    {
      "cell_type": "markdown",
      "metadata": {
        "id": "9OKkFdWFaL87"
      },
      "source": [
        "Based on the graph above, it can be seen that in 2014, the trend of total customer purchases increased, although in 2014 there was a **significant decrease** in the second month which reached **the lowest point of 44708**, and **reached the peak/all time high 2014** in the 11th month of the year which **reached 112329**. On an annual basis, **Customer spend increased by 102.38%**"
      ]
    },
    {
      "cell_type": "code",
      "execution_count": null,
      "metadata": {
        "id": "jLu5UYo1raQr"
      },
      "outputs": [],
      "source": [
        "df_agg['Date'] = pd.to_datetime(df_agg['Date'])"
      ]
    },
    {
      "cell_type": "code",
      "execution_count": null,
      "metadata": {
        "id": "ImnDO2FeoWYX",
        "colab": {
          "base_uri": "https://localhost:8080/",
          "height": 350
        },
        "outputId": "1a470ca4-3e3c-4bb3-f584-2869b17cffa0"
      },
      "outputs": [
        {
          "output_type": "display_data",
          "data": {
            "text/plain": [
              "<Figure size 1152x360 with 1 Axes>"
            ],
            "image/png": "[encoded data removed]"
          },
          "metadata": {
            "needs_background": "light"
          }
        }
      ],
      "source": [
        "df_2011 = df_agg[df_agg['Date'].dt.year==2011]\n",
        "df_2012 = df_agg[df_agg['Date'].dt.year==2012]\n",
        "df_2013 = df_agg[df_agg['Date'].dt.year==2013]\n",
        "df_2014 = df_agg[df_agg['Date'].dt.year==2014]\n",
        "\n",
        "plt.figure(figsize=(16,5))\n",
        "plt.plot(df_2011.Date.dt.month, df_2011.grand_total, label=2011, color='#411530')\n",
        "plt.plot(df_2012.Date.dt.month, df_2012.grand_total, label=2012, color='#D1512D')\n",
        "plt.plot(df_2013.Date.dt.month, df_2013.grand_total, label=2013, color='#F5C7A9')\n",
        "plt.plot(df_2014.Date.dt.month, df_2014.grand_total, label=2014, color='#FFEA11')\n",
        "plt.title(\"Grand Total by Month\")\n",
        "plt.xlabel('Month')\n",
        "plt.ylabel('Grand Total')\n",
        "plt.legend()\n",
        "plt.show()"
      ]
    },
    {
      "cell_type": "markdown",
      "metadata": {
        "id": "W9vBkDVUEOXI"
      },
      "source": [
        "From the graph above, Customer purchase data 'order data' from January 2011 to 2014 is fluctuated. In 2011 the highest purchase was in September with a total purchase of **81,784 k** and the lowest was of **4810** in February, in 2012 the highest purchase was in November with a total purchase of **75,968 k** and the lowest was in February with a value of **12,211 k** , in 2013 the highest purchase was worth **97,244 k** in December and the lowest was in January with a value of **18,543 k**, and in 2014 the highest purchase was in November with a total of **112.293 k** and the lowest in February with a value of **20,287 k**. Overall, the highest purchase in the period 2011 to 2014 was in November 2014 with a value of **112.293 k** and the lowest was in February 2011 with a total purchase of **4810**.\n",
        "From the data above, there is also a visible pattern where in the three-year period the lowest purchases are generally at the beginning of the year,  between January and February, while the highest purchases are at the end of the year between September and December.\n",
        "\n"
      ]
    },
    {
      "cell_type": "markdown",
      "metadata": {
        "id": "cfiZwgBa0BI2"
      },
      "source": [
        "# Preprocessing Modeling"
      ]
    },
    {
      "cell_type": "code",
      "execution_count": null,
      "metadata": {
        "id": "GguDhqgD0X4-",
        "colab": {
          "base_uri": "https://localhost:8080/"
        },
        "outputId": "b4b9f4ab-7dc0-4a24-a01c-ccf2f4a634ed"
      },
      "outputs": [
        {
          "output_type": "stream",
          "name": "stdout",
          "text": [
            "2011-01-04 00:00:00\n",
            "2014-12-31 00:00:00\n",
            "The data is from 3 year transaction\n"
          ]
        }
      ],
      "source": [
        "# timebound\n",
        "\n",
        "print(df[\"order_date\"].min())\n",
        "print(df[\"order_date\"].max())\n",
        "print(\"The data is from 3 year transaction\")"
      ]
    },
    {
      "cell_type": "markdown",
      "metadata": {
        "id": "NvW1REzGNBbZ"
      },
      "source": [
        "order data is a record of customer purchase data in 3 years transcation from January 4, 2011 to December 31, 2014"
      ]
    },
    {
      "cell_type": "markdown",
      "metadata": {
        "id": "OGQMzpuI0dbG"
      },
      "source": [
        "last order is 2014-12-31, we will use this date to calulate recency"
      ]
    },
    {
      "cell_type": "code",
      "execution_count": null,
      "metadata": {
        "id": "aM11ZjSO0e9H"
      },
      "outputs": [],
      "source": [
        "NOW = dt.date(2014,12,31)\n",
        "df['Date'] = pd.DatetimeIndex(df.order_date).date"
      ]
    },
    {
      "cell_type": "code",
      "execution_count": null,
      "metadata": {
        "id": "cffqvV8g1Zlr",
        "colab": {
          "base_uri": "https://localhost:8080/",
          "height": 206
        },
        "outputId": "2ce95f18-9c42-4f12-f93c-47ef50c890ba"
      },
      "outputs": [
        {
          "output_type": "execute_result",
          "data": {
            "text/plain": [
              "          customer  Recency\n",
              "0    Aaron Bergman      415\n",
              "1    Aaron Hawkins       12\n",
              "2   Aaron Smayling       88\n",
              "3  Adam Bellavance       54\n",
              "4        Adam Hart       34"
            ],
            "text/html": [
              "\n",
              "  <div id=\"df-f347d1e7-6de9-4f00-af43-7120006c3148\">\n",
              "    <div class=\"colab-df-container\">\n",
              "      <div>\n",
              "<style scoped>\n",
              "    .dataframe tbody tr th:only-of-type {\n",
              "        vertical-align: middle;\n",
              "    }\n",
              "\n",
              "    .dataframe tbody tr th {\n",
              "        vertical-align: top;\n",
              "    }\n",
              "\n",
              "    .dataframe thead th {\n",
              "        text-align: right;\n",
              "    }\n",
              "</style>\n",
              "<table border=\"1\" class=\"dataframe\">\n",
              "  <thead>\n",
              "    <tr style=\"text-align: right;\">\n",
              "      <th></th>\n",
              "      <th>customer</th>\n",
              "      <th>Recency</th>\n",
              "    </tr>\n",
              "  </thead>\n",
              "  <tbody>\n",
              "    <tr>\n",
              "      <th>0</th>\n",
              "      <td>Aaron Bergman</td>\n",
              "      <td>415</td>\n",
              "    </tr>\n",
              "    <tr>\n",
              "      <th>1</th>\n",
              "      <td>Aaron Hawkins</td>\n",
              "      <td>12</td>\n",
              "    </tr>\n",
              "    <tr>\n",
              "      <th>2</th>\n",
              "      <td>Aaron Smayling</td>\n",
              "      <td>88</td>\n",
              "    </tr>\n",
              "    <tr>\n",
              "      <th>3</th>\n",
              "      <td>Adam Bellavance</td>\n",
              "      <td>54</td>\n",
              "    </tr>\n",
              "    <tr>\n",
              "      <th>4</th>\n",
              "      <td>Adam Hart</td>\n",
              "      <td>34</td>\n",
              "    </tr>\n",
              "  </tbody>\n",
              "</table>\n",
              "</div>\n",
              "      <button class=\"colab-df-convert\" onclick=\"convertToInteractive('df-f347d1e7-6de9-4f00-af43-7120006c3148')\"\n",
              "              title=\"Convert this dataframe to an interactive table.\"\n",
              "              style=\"display:none;\">\n",
              "        \n",
              "  <svg xmlns=\"http://www.w3.org/2000/svg\" height=\"24px\"viewBox=\"0 0 24 24\"\n",
              "       width=\"24px\">\n",
              "    <path d=\"M0 0h24v24H0V0z\" fill=\"none\"/>\n",
              "    <path d=\"M18.56 5.44l.94 2.06.94-2.06 2.06-.94-2.06-.94-.94-2.06-.94 2.06-2.06.94zm-11 1L8.5 8.5l.94-2.06 2.06-.94-2.06-.94L8.5 2.5l-.94 2.06-2.06.94zm10 10l.94 2.06.94-2.06 2.06-.94-2.06-.94-.94-2.06-.94 2.06-2.06.94z\"/><path d=\"M17.41 7.96l-1.37-1.37c-.4-.4-.92-.59-1.43-.59-.52 0-1.04.2-1.43.59L10.3 9.45l-7.72 7.72c-.78.78-.78 2.05 0 2.83L4 21.41c.39.39.9.59 1.41.59.51 0 1.02-.2 1.41-.59l7.78-7.78 2.81-2.81c.8-.78.8-2.07 0-2.86zM5.41 20L4 18.59l7.72-7.72 1.47 1.35L5.41 20z\"/>\n",
              "  </svg>\n",
              "      </button>\n",
              "      \n",
              "  <style>\n",
              "    .colab-df-container {\n",
              "      display:flex;\n",
              "      flex-wrap:wrap;\n",
              "      gap: 12px;\n",
              "    }\n",
              "\n",
              "    .colab-df-convert {\n",
              "      background-color: #E8F0FE;\n",
              "      border: none;\n",
              "      border-radius: 50%;\n",
              "      cursor: pointer;\n",
              "      display: none;\n",
              "      fill: #1967D2;\n",
              "      height: 32px;\n",
              "      padding: 0 0 0 0;\n",
              "      width: 32px;\n",
              "    }\n",
              "\n",
              "    .colab-df-convert:hover {\n",
              "      background-color: #E2EBFA;\n",
              "      box-shadow: 0px 1px 2px rgba(60, 64, 67, 0.3), 0px 1px 3px 1px rgba(60, 64, 67, 0.15);\n",
              "      fill: #174EA6;\n",
              "    }\n",
              "\n",
              "    [theme=dark] .colab-df-convert {\n",
              "      background-color: #3B4455;\n",
              "      fill: #D2E3FC;\n",
              "    }\n",
              "\n",
              "    [theme=dark] .colab-df-convert:hover {\n",
              "      background-color: #434B5C;\n",
              "      box-shadow: 0px 1px 3px 1px rgba(0, 0, 0, 0.15);\n",
              "      filter: drop-shadow(0px 1px 2px rgba(0, 0, 0, 0.3));\n",
              "      fill: #FFFFFF;\n",
              "    }\n",
              "  </style>\n",
              "\n",
              "      <script>\n",
              "        const buttonEl =\n",
              "          document.querySelector('#df-f347d1e7-6de9-4f00-af43-7120006c3148 button.colab-df-convert');\n",
              "        buttonEl.style.display =\n",
              "          google.colab.kernel.accessAllowed ? 'block' : 'none';\n",
              "\n",
              "        async function convertToInteractive(key) {\n",
              "          const element = document.querySelector('#df-f347d1e7-6de9-4f00-af43-7120006c3148');\n",
              "          const dataTable =\n",
              "            await google.colab.kernel.invokeFunction('convertToInteractive',\n",
              "                                                     [key], {});\n",
              "          if (!dataTable) return;\n",
              "\n",
              "          const docLinkHtml = 'Like what you see? Visit the ' +\n",
              "            '<a target=\"_blank\" href=https://colab.research.google.com/notebooks/data_table.ipynb>data table notebook</a>'\n",
              "            + ' to learn more about interactive tables.';\n",
              "          element.innerHTML = '';\n",
              "          dataTable['output_type'] = 'display_data';\n",
              "          await google.colab.output.renderOutput(dataTable, element);\n",
              "          const docLink = document.createElement('div');\n",
              "          docLink.innerHTML = docLinkHtml;\n",
              "          element.appendChild(docLink);\n",
              "        }\n",
              "      </script>\n",
              "    </div>\n",
              "  </div>\n",
              "  "
            ]
          },
          "metadata": {},
          "execution_count": 35
        }
      ],
      "source": [
        "# recency\n",
        "\n",
        "df_recency = df.groupby(['customer'], as_index = False)['Date'].max()\n",
        "df_recency.columns = ['customer', 'Last_Purchase_Date']\n",
        "\n",
        "df_recency['Recency'] = df_recency.Last_Purchase_Date.apply(lambda x:(NOW - x).days)\n",
        "df_recency.drop(columns=['Last_Purchase_Date'],inplace=True)\n",
        "df_recency.head()"
      ]
    },
    {
      "cell_type": "code",
      "execution_count": null,
      "metadata": {
        "id": "cz1BjmfZ1da6",
        "colab": {
          "base_uri": "https://localhost:8080/",
          "height": 237
        },
        "outputId": "7c1b8c82-d71a-4a76-a9d0-909ab4269b5d"
      },
      "outputs": [
        {
          "output_type": "execute_result",
          "data": {
            "text/plain": [
              "                 Frequency  Monetary\n",
              "customer                            \n",
              "Aaron Bergman            3       887\n",
              "Aaron Hawkins            7      1744\n",
              "Aaron Smayling           7      3050\n",
              "Adam Bellavance          8      7756\n",
              "Adam Hart               10      3249"
            ],
            "text/html": [
              "\n",
              "  <div id=\"df-c8f7eea0-11eb-4564-8249-abd40827e112\">\n",
              "    <div class=\"colab-df-container\">\n",
              "      <div>\n",
              "<style scoped>\n",
              "    .dataframe tbody tr th:only-of-type {\n",
              "        vertical-align: middle;\n",
              "    }\n",
              "\n",
              "    .dataframe tbody tr th {\n",
              "        vertical-align: top;\n",
              "    }\n",
              "\n",
              "    .dataframe thead th {\n",
              "        text-align: right;\n",
              "    }\n",
              "</style>\n",
              "<table border=\"1\" class=\"dataframe\">\n",
              "  <thead>\n",
              "    <tr style=\"text-align: right;\">\n",
              "      <th></th>\n",
              "      <th>Frequency</th>\n",
              "      <th>Monetary</th>\n",
              "    </tr>\n",
              "    <tr>\n",
              "      <th>customer</th>\n",
              "      <th></th>\n",
              "      <th></th>\n",
              "    </tr>\n",
              "  </thead>\n",
              "  <tbody>\n",
              "    <tr>\n",
              "      <th>Aaron Bergman</th>\n",
              "      <td>3</td>\n",
              "      <td>887</td>\n",
              "    </tr>\n",
              "    <tr>\n",
              "      <th>Aaron Hawkins</th>\n",
              "      <td>7</td>\n",
              "      <td>1744</td>\n",
              "    </tr>\n",
              "    <tr>\n",
              "      <th>Aaron Smayling</th>\n",
              "      <td>7</td>\n",
              "      <td>3050</td>\n",
              "    </tr>\n",
              "    <tr>\n",
              "      <th>Adam Bellavance</th>\n",
              "      <td>8</td>\n",
              "      <td>7756</td>\n",
              "    </tr>\n",
              "    <tr>\n",
              "      <th>Adam Hart</th>\n",
              "      <td>10</td>\n",
              "      <td>3249</td>\n",
              "    </tr>\n",
              "  </tbody>\n",
              "</table>\n",
              "</div>\n",
              "      <button class=\"colab-df-convert\" onclick=\"convertToInteractive('df-c8f7eea0-11eb-4564-8249-abd40827e112')\"\n",
              "              title=\"Convert this dataframe to an interactive table.\"\n",
              "              style=\"display:none;\">\n",
              "        \n",
              "  <svg xmlns=\"http://www.w3.org/2000/svg\" height=\"24px\"viewBox=\"0 0 24 24\"\n",
              "       width=\"24px\">\n",
              "    <path d=\"M0 0h24v24H0V0z\" fill=\"none\"/>\n",
              "    <path d=\"M18.56 5.44l.94 2.06.94-2.06 2.06-.94-2.06-.94-.94-2.06-.94 2.06-2.06.94zm-11 1L8.5 8.5l.94-2.06 2.06-.94-2.06-.94L8.5 2.5l-.94 2.06-2.06.94zm10 10l.94 2.06.94-2.06 2.06-.94-2.06-.94-.94-2.06-.94 2.06-2.06.94z\"/><path d=\"M17.41 7.96l-1.37-1.37c-.4-.4-.92-.59-1.43-.59-.52 0-1.04.2-1.43.59L10.3 9.45l-7.72 7.72c-.78.78-.78 2.05 0 2.83L4 21.41c.39.39.9.59 1.41.59.51 0 1.02-.2 1.41-.59l7.78-7.78 2.81-2.81c.8-.78.8-2.07 0-2.86zM5.41 20L4 18.59l7.72-7.72 1.47 1.35L5.41 20z\"/>\n",
              "  </svg>\n",
              "      </button>\n",
              "      \n",
              "  <style>\n",
              "    .colab-df-container {\n",
              "      display:flex;\n",
              "      flex-wrap:wrap;\n",
              "      gap: 12px;\n",
              "    }\n",
              "\n",
              "    .colab-df-convert {\n",
              "      background-color: #E8F0FE;\n",
              "      border: none;\n",
              "      border-radius: 50%;\n",
              "      cursor: pointer;\n",
              "      display: none;\n",
              "      fill: #1967D2;\n",
              "      height: 32px;\n",
              "      padding: 0 0 0 0;\n",
              "      width: 32px;\n",
              "    }\n",
              "\n",
              "    .colab-df-convert:hover {\n",
              "      background-color: #E2EBFA;\n",
              "      box-shadow: 0px 1px 2px rgba(60, 64, 67, 0.3), 0px 1px 3px 1px rgba(60, 64, 67, 0.15);\n",
              "      fill: #174EA6;\n",
              "    }\n",
              "\n",
              "    [theme=dark] .colab-df-convert {\n",
              "      background-color: #3B4455;\n",
              "      fill: #D2E3FC;\n",
              "    }\n",
              "\n",
              "    [theme=dark] .colab-df-convert:hover {\n",
              "      background-color: #434B5C;\n",
              "      box-shadow: 0px 1px 3px 1px rgba(0, 0, 0, 0.15);\n",
              "      filter: drop-shadow(0px 1px 2px rgba(0, 0, 0, 0.3));\n",
              "      fill: #FFFFFF;\n",
              "    }\n",
              "  </style>\n",
              "\n",
              "      <script>\n",
              "        const buttonEl =\n",
              "          document.querySelector('#df-c8f7eea0-11eb-4564-8249-abd40827e112 button.colab-df-convert');\n",
              "        buttonEl.style.display =\n",
              "          google.colab.kernel.accessAllowed ? 'block' : 'none';\n",
              "\n",
              "        async function convertToInteractive(key) {\n",
              "          const element = document.querySelector('#df-c8f7eea0-11eb-4564-8249-abd40827e112');\n",
              "          const dataTable =\n",
              "            await google.colab.kernel.invokeFunction('convertToInteractive',\n",
              "                                                     [key], {});\n",
              "          if (!dataTable) return;\n",
              "\n",
              "          const docLinkHtml = 'Like what you see? Visit the ' +\n",
              "            '<a target=\"_blank\" href=https://colab.research.google.com/notebooks/data_table.ipynb>data table notebook</a>'\n",
              "            + ' to learn more about interactive tables.';\n",
              "          element.innerHTML = '';\n",
              "          dataTable['output_type'] = 'display_data';\n",
              "          await google.colab.output.renderOutput(dataTable, element);\n",
              "          const docLink = document.createElement('div');\n",
              "          docLink.innerHTML = docLinkHtml;\n",
              "          element.appendChild(docLink);\n",
              "        }\n",
              "      </script>\n",
              "    </div>\n",
              "  </div>\n",
              "  "
            ]
          },
          "metadata": {},
          "execution_count": 36
        }
      ],
      "source": [
        "# frequency - monetary\n",
        "\n",
        "FM_Table = df.groupby('customer').agg({'order_id'   : lambda x:len(x), \n",
        "                                        'grand_total'      : lambda x:x.sum()})\n",
        "FM_Table.rename(columns = {'order_id' : 'Frequency',\n",
        "                          'grand_total' : 'Monetary'}, inplace = True)\n",
        "\n",
        "FM_Table.head()"
      ]
    },
    {
      "cell_type": "code",
      "execution_count": null,
      "metadata": {
        "id": "kBIE8MLj1mpo",
        "colab": {
          "base_uri": "https://localhost:8080/",
          "height": 206
        },
        "outputId": "76128937-801b-45d5-d921-363b6f752ccb"
      },
      "outputs": [
        {
          "output_type": "execute_result",
          "data": {
            "text/plain": [
              "          customer  Recency  Frequency  Monetary\n",
              "0    Aaron Bergman      415          3       887\n",
              "1    Aaron Hawkins       12          7      1744\n",
              "2   Aaron Smayling       88          7      3050\n",
              "3  Adam Bellavance       54          8      7756\n",
              "4        Adam Hart       34         10      3249"
            ],
            "text/html": [
              "\n",
              "  <div id=\"df-97b51c98-963f-432d-9f7e-edea0da0ab55\">\n",
              "    <div class=\"colab-df-container\">\n",
              "      <div>\n",
              "<style scoped>\n",
              "    .dataframe tbody tr th:only-of-type {\n",
              "        vertical-align: middle;\n",
              "    }\n",
              "\n",
              "    .dataframe tbody tr th {\n",
              "        vertical-align: top;\n",
              "    }\n",
              "\n",
              "    .dataframe thead th {\n",
              "        text-align: right;\n",
              "    }\n",
              "</style>\n",
              "<table border=\"1\" class=\"dataframe\">\n",
              "  <thead>\n",
              "    <tr style=\"text-align: right;\">\n",
              "      <th></th>\n",
              "      <th>customer</th>\n",
              "      <th>Recency</th>\n",
              "      <th>Frequency</th>\n",
              "      <th>Monetary</th>\n",
              "    </tr>\n",
              "  </thead>\n",
              "  <tbody>\n",
              "    <tr>\n",
              "      <th>0</th>\n",
              "      <td>Aaron Bergman</td>\n",
              "      <td>415</td>\n",
              "      <td>3</td>\n",
              "      <td>887</td>\n",
              "    </tr>\n",
              "    <tr>\n",
              "      <th>1</th>\n",
              "      <td>Aaron Hawkins</td>\n",
              "      <td>12</td>\n",
              "      <td>7</td>\n",
              "      <td>1744</td>\n",
              "    </tr>\n",
              "    <tr>\n",
              "      <th>2</th>\n",
              "      <td>Aaron Smayling</td>\n",
              "      <td>88</td>\n",
              "      <td>7</td>\n",
              "      <td>3050</td>\n",
              "    </tr>\n",
              "    <tr>\n",
              "      <th>3</th>\n",
              "      <td>Adam Bellavance</td>\n",
              "      <td>54</td>\n",
              "      <td>8</td>\n",
              "      <td>7756</td>\n",
              "    </tr>\n",
              "    <tr>\n",
              "      <th>4</th>\n",
              "      <td>Adam Hart</td>\n",
              "      <td>34</td>\n",
              "      <td>10</td>\n",
              "      <td>3249</td>\n",
              "    </tr>\n",
              "  </tbody>\n",
              "</table>\n",
              "</div>\n",
              "      <button class=\"colab-df-convert\" onclick=\"convertToInteractive('df-97b51c98-963f-432d-9f7e-edea0da0ab55')\"\n",
              "              title=\"Convert this dataframe to an interactive table.\"\n",
              "              style=\"display:none;\">\n",
              "        \n",
              "  <svg xmlns=\"http://www.w3.org/2000/svg\" height=\"24px\"viewBox=\"0 0 24 24\"\n",
              "       width=\"24px\">\n",
              "    <path d=\"M0 0h24v24H0V0z\" fill=\"none\"/>\n",
              "    <path d=\"M18.56 5.44l.94 2.06.94-2.06 2.06-.94-2.06-.94-.94-2.06-.94 2.06-2.06.94zm-11 1L8.5 8.5l.94-2.06 2.06-.94-2.06-.94L8.5 2.5l-.94 2.06-2.06.94zm10 10l.94 2.06.94-2.06 2.06-.94-2.06-.94-.94-2.06-.94 2.06-2.06.94z\"/><path d=\"M17.41 7.96l-1.37-1.37c-.4-.4-.92-.59-1.43-.59-.52 0-1.04.2-1.43.59L10.3 9.45l-7.72 7.72c-.78.78-.78 2.05 0 2.83L4 21.41c.39.39.9.59 1.41.59.51 0 1.02-.2 1.41-.59l7.78-7.78 2.81-2.81c.8-.78.8-2.07 0-2.86zM5.41 20L4 18.59l7.72-7.72 1.47 1.35L5.41 20z\"/>\n",
              "  </svg>\n",
              "      </button>\n",
              "      \n",
              "  <style>\n",
              "    .colab-df-container {\n",
              "      display:flex;\n",
              "      flex-wrap:wrap;\n",
              "      gap: 12px;\n",
              "    }\n",
              "\n",
              "    .colab-df-convert {\n",
              "      background-color: #E8F0FE;\n",
              "      border: none;\n",
              "      border-radius: 50%;\n",
              "      cursor: pointer;\n",
              "      display: none;\n",
              "      fill: #1967D2;\n",
              "      height: 32px;\n",
              "      padding: 0 0 0 0;\n",
              "      width: 32px;\n",
              "    }\n",
              "\n",
              "    .colab-df-convert:hover {\n",
              "      background-color: #E2EBFA;\n",
              "      box-shadow: 0px 1px 2px rgba(60, 64, 67, 0.3), 0px 1px 3px 1px rgba(60, 64, 67, 0.15);\n",
              "      fill: #174EA6;\n",
              "    }\n",
              "\n",
              "    [theme=dark] .colab-df-convert {\n",
              "      background-color: #3B4455;\n",
              "      fill: #D2E3FC;\n",
              "    }\n",
              "\n",
              "    [theme=dark] .colab-df-convert:hover {\n",
              "      background-color: #434B5C;\n",
              "      box-shadow: 0px 1px 3px 1px rgba(0, 0, 0, 0.15);\n",
              "      filter: drop-shadow(0px 1px 2px rgba(0, 0, 0, 0.3));\n",
              "      fill: #FFFFFF;\n",
              "    }\n",
              "  </style>\n",
              "\n",
              "      <script>\n",
              "        const buttonEl =\n",
              "          document.querySelector('#df-97b51c98-963f-432d-9f7e-edea0da0ab55 button.colab-df-convert');\n",
              "        buttonEl.style.display =\n",
              "          google.colab.kernel.accessAllowed ? 'block' : 'none';\n",
              "\n",
              "        async function convertToInteractive(key) {\n",
              "          const element = document.querySelector('#df-97b51c98-963f-432d-9f7e-edea0da0ab55');\n",
              "          const dataTable =\n",
              "            await google.colab.kernel.invokeFunction('convertToInteractive',\n",
              "                                                     [key], {});\n",
              "          if (!dataTable) return;\n",
              "\n",
              "          const docLinkHtml = 'Like what you see? Visit the ' +\n",
              "            '<a target=\"_blank\" href=https://colab.research.google.com/notebooks/data_table.ipynb>data table notebook</a>'\n",
              "            + ' to learn more about interactive tables.';\n",
              "          element.innerHTML = '';\n",
              "          dataTable['output_type'] = 'display_data';\n",
              "          await google.colab.output.renderOutput(dataTable, element);\n",
              "          const docLink = document.createElement('div');\n",
              "          docLink.innerHTML = docLinkHtml;\n",
              "          element.appendChild(docLink);\n",
              "        }\n",
              "      </script>\n",
              "    </div>\n",
              "  </div>\n",
              "  "
            ]
          },
          "metadata": {},
          "execution_count": 37
        }
      ],
      "source": [
        "RFM_Table = df_recency.merge(FM_Table, left_on = 'customer', right_on = 'customer')\n",
        "RFM_Table.head()"
      ]
    },
    {
      "cell_type": "markdown",
      "metadata": {
        "id": "Ke-0tTic1tg2"
      },
      "source": [
        "# Modeling"
      ]
    },
    {
      "cell_type": "code",
      "execution_count": null,
      "metadata": {
        "id": "vZlDcYS61vxe"
      },
      "outputs": [],
      "source": [
        "quantiles = RFM_Table.quantile(q=[0.25, 0.50, 0.75])\n",
        "quantiles = quantiles.to_dict()"
      ]
    },
    {
      "cell_type": "code",
      "execution_count": null,
      "metadata": {
        "id": "wHeGZaOL1_Mj"
      },
      "outputs": [],
      "source": [
        "segmented_rfm = RFM_Table.copy()"
      ]
    },
    {
      "cell_type": "code",
      "execution_count": null,
      "metadata": {
        "id": "yEdTC8Hj2GW9"
      },
      "outputs": [],
      "source": [
        "def RScore(x,p,d):\n",
        "    if x <= d[p][0.25]:\n",
        "        return 1\n",
        "    elif x <= d[p][0.50]:\n",
        "        return 2\n",
        "    elif x <= d[p][0.75]:\n",
        "        return 3\n",
        "    else:\n",
        "        return 4\n",
        "    \n",
        "def FMScore(x,p,d):\n",
        "    if x <= d[p][0.25]:\n",
        "        return 4\n",
        "    elif x <= d[p][0.50]:\n",
        "        return 3\n",
        "    elif x <= d[p][0.75]:\n",
        "        return 2\n",
        "    else:\n",
        "        return 1\n",
        "    "
      ]
    },
    {
      "cell_type": "code",
      "execution_count": null,
      "metadata": {
        "id": "CNsL2Gza2pV5",
        "colab": {
          "base_uri": "https://localhost:8080/",
          "height": 206
        },
        "outputId": "b5c4d025-ad2f-44cc-e65e-3ddb89a5122e"
      },
      "outputs": [
        {
          "output_type": "execute_result",
          "data": {
            "text/plain": [
              "          customer  Recency  Frequency  Monetary  R_quartile  F_quartile  \\\n",
              "0    Aaron Bergman      415          3       887           4           4   \n",
              "1    Aaron Hawkins       12          7      1744           1           2   \n",
              "2   Aaron Smayling       88          7      3050           3           2   \n",
              "3  Adam Bellavance       54          8      7756           2           2   \n",
              "4        Adam Hart       34         10      3249           2           1   \n",
              "\n",
              "   M_quartile  \n",
              "0           4  \n",
              "1           3  \n",
              "2           2  \n",
              "3           1  \n",
              "4           2  "
            ],
            "text/html": [
              "\n",
              "  <div id=\"df-b1a73941-99f1-4a82-8d0f-c1b22635602c\">\n",
              "    <div class=\"colab-df-container\">\n",
              "      <div>\n",
              "<style scoped>\n",
              "    .dataframe tbody tr th:only-of-type {\n",
              "        vertical-align: middle;\n",
              "    }\n",
              "\n",
              "    .dataframe tbody tr th {\n",
              "        vertical-align: top;\n",
              "    }\n",
              "\n",
              "    .dataframe thead th {\n",
              "        text-align: right;\n",
              "    }\n",
              "</style>\n",
              "<table border=\"1\" class=\"dataframe\">\n",
              "  <thead>\n",
              "    <tr style=\"text-align: right;\">\n",
              "      <th></th>\n",
              "      <th>customer</th>\n",
              "      <th>Recency</th>\n",
              "      <th>Frequency</th>\n",
              "      <th>Monetary</th>\n",
              "      <th>R_quartile</th>\n",
              "      <th>F_quartile</th>\n",
              "      <th>M_quartile</th>\n",
              "    </tr>\n",
              "  </thead>\n",
              "  <tbody>\n",
              "    <tr>\n",
              "      <th>0</th>\n",
              "      <td>Aaron Bergman</td>\n",
              "      <td>415</td>\n",
              "      <td>3</td>\n",
              "      <td>887</td>\n",
              "      <td>4</td>\n",
              "      <td>4</td>\n",
              "      <td>4</td>\n",
              "    </tr>\n",
              "    <tr>\n",
              "      <th>1</th>\n",
              "      <td>Aaron Hawkins</td>\n",
              "      <td>12</td>\n",
              "      <td>7</td>\n",
              "      <td>1744</td>\n",
              "      <td>1</td>\n",
              "      <td>2</td>\n",
              "      <td>3</td>\n",
              "    </tr>\n",
              "    <tr>\n",
              "      <th>2</th>\n",
              "      <td>Aaron Smayling</td>\n",
              "      <td>88</td>\n",
              "      <td>7</td>\n",
              "      <td>3050</td>\n",
              "      <td>3</td>\n",
              "      <td>2</td>\n",
              "      <td>2</td>\n",
              "    </tr>\n",
              "    <tr>\n",
              "      <th>3</th>\n",
              "      <td>Adam Bellavance</td>\n",
              "      <td>54</td>\n",
              "      <td>8</td>\n",
              "      <td>7756</td>\n",
              "      <td>2</td>\n",
              "      <td>2</td>\n",
              "      <td>1</td>\n",
              "    </tr>\n",
              "    <tr>\n",
              "      <th>4</th>\n",
              "      <td>Adam Hart</td>\n",
              "      <td>34</td>\n",
              "      <td>10</td>\n",
              "      <td>3249</td>\n",
              "      <td>2</td>\n",
              "      <td>1</td>\n",
              "      <td>2</td>\n",
              "    </tr>\n",
              "  </tbody>\n",
              "</table>\n",
              "</div>\n",
              "      <button class=\"colab-df-convert\" onclick=\"convertToInteractive('df-b1a73941-99f1-4a82-8d0f-c1b22635602c')\"\n",
              "              title=\"Convert this dataframe to an interactive table.\"\n",
              "              style=\"display:none;\">\n",
              "        \n",
              "  <svg xmlns=\"http://www.w3.org/2000/svg\" height=\"24px\"viewBox=\"0 0 24 24\"\n",
              "       width=\"24px\">\n",
              "    <path d=\"M0 0h24v24H0V0z\" fill=\"none\"/>\n",
              "    <path d=\"M18.56 5.44l.94 2.06.94-2.06 2.06-.94-2.06-.94-.94-2.06-.94 2.06-2.06.94zm-11 1L8.5 8.5l.94-2.06 2.06-.94-2.06-.94L8.5 2.5l-.94 2.06-2.06.94zm10 10l.94 2.06.94-2.06 2.06-.94-2.06-.94-.94-2.06-.94 2.06-2.06.94z\"/><path d=\"M17.41 7.96l-1.37-1.37c-.4-.4-.92-.59-1.43-.59-.52 0-1.04.2-1.43.59L10.3 9.45l-7.72 7.72c-.78.78-.78 2.05 0 2.83L4 21.41c.39.39.9.59 1.41.59.51 0 1.02-.2 1.41-.59l7.78-7.78 2.81-2.81c.8-.78.8-2.07 0-2.86zM5.41 20L4 18.59l7.72-7.72 1.47 1.35L5.41 20z\"/>\n",
              "  </svg>\n",
              "      </button>\n",
              "      \n",
              "  <style>\n",
              "    .colab-df-container {\n",
              "      display:flex;\n",
              "      flex-wrap:wrap;\n",
              "      gap: 12px;\n",
              "    }\n",
              "\n",
              "    .colab-df-convert {\n",
              "      background-color: #E8F0FE;\n",
              "      border: none;\n",
              "      border-radius: 50%;\n",
              "      cursor: pointer;\n",
              "      display: none;\n",
              "      fill: #1967D2;\n",
              "      height: 32px;\n",
              "      padding: 0 0 0 0;\n",
              "      width: 32px;\n",
              "    }\n",
              "\n",
              "    .colab-df-convert:hover {\n",
              "      background-color: #E2EBFA;\n",
              "      box-shadow: 0px 1px 2px rgba(60, 64, 67, 0.3), 0px 1px 3px 1px rgba(60, 64, 67, 0.15);\n",
              "      fill: #174EA6;\n",
              "    }\n",
              "\n",
              "    [theme=dark] .colab-df-convert {\n",
              "      background-color: #3B4455;\n",
              "      fill: #D2E3FC;\n",
              "    }\n",
              "\n",
              "    [theme=dark] .colab-df-convert:hover {\n",
              "      background-color: #434B5C;\n",
              "      box-shadow: 0px 1px 3px 1px rgba(0, 0, 0, 0.15);\n",
              "      filter: drop-shadow(0px 1px 2px rgba(0, 0, 0, 0.3));\n",
              "      fill: #FFFFFF;\n",
              "    }\n",
              "  </style>\n",
              "\n",
              "      <script>\n",
              "        const buttonEl =\n",
              "          document.querySelector('#df-b1a73941-99f1-4a82-8d0f-c1b22635602c button.colab-df-convert');\n",
              "        buttonEl.style.display =\n",
              "          google.colab.kernel.accessAllowed ? 'block' : 'none';\n",
              "\n",
              "        async function convertToInteractive(key) {\n",
              "          const element = document.querySelector('#df-b1a73941-99f1-4a82-8d0f-c1b22635602c');\n",
              "          const dataTable =\n",
              "            await google.colab.kernel.invokeFunction('convertToInteractive',\n",
              "                                                     [key], {});\n",
              "          if (!dataTable) return;\n",
              "\n",
              "          const docLinkHtml = 'Like what you see? Visit the ' +\n",
              "            '<a target=\"_blank\" href=https://colab.research.google.com/notebooks/data_table.ipynb>data table notebook</a>'\n",
              "            + ' to learn more about interactive tables.';\n",
              "          element.innerHTML = '';\n",
              "          dataTable['output_type'] = 'display_data';\n",
              "          await google.colab.output.renderOutput(dataTable, element);\n",
              "          const docLink = document.createElement('div');\n",
              "          docLink.innerHTML = docLinkHtml;\n",
              "          element.appendChild(docLink);\n",
              "        }\n",
              "      </script>\n",
              "    </div>\n",
              "  </div>\n",
              "  "
            ]
          },
          "metadata": {},
          "execution_count": 41
        }
      ],
      "source": [
        "segmented_rfm['R_quartile'] = segmented_rfm['Recency'].apply(RScore, args= ('Recency', quantiles))\n",
        "segmented_rfm['F_quartile'] = segmented_rfm['Frequency'].apply(FMScore, args= ('Frequency', quantiles))\n",
        "segmented_rfm['M_quartile'] = segmented_rfm['Monetary'].apply(FMScore, args= ('Monetary', quantiles))\n",
        "segmented_rfm.head()"
      ]
    },
    {
      "cell_type": "code",
      "execution_count": null,
      "metadata": {
        "id": "mF56Aira2xM8"
      },
      "outputs": [],
      "source": [
        "segmented_rfm['RFM_Segment'] = segmented_rfm.R_quartile.map(str)+segmented_rfm.F_quartile.map(str)+segmented_rfm.M_quartile.map(str)"
      ]
    },
    {
      "cell_type": "code",
      "execution_count": null,
      "metadata": {
        "id": "eYruvoNa2zlt",
        "colab": {
          "base_uri": "https://localhost:8080/",
          "height": 206
        },
        "outputId": "cd1b6738-9ebf-4e3d-87ef-2e3f550f2ac4"
      },
      "outputs": [
        {
          "output_type": "execute_result",
          "data": {
            "text/plain": [
              "          customer  Recency  Frequency  Monetary  R_quartile  F_quartile  \\\n",
              "0    Aaron Bergman      415          3       887           4           4   \n",
              "1    Aaron Hawkins       12          7      1744           1           2   \n",
              "2   Aaron Smayling       88          7      3050           3           2   \n",
              "3  Adam Bellavance       54          8      7756           2           2   \n",
              "4        Adam Hart       34         10      3249           2           1   \n",
              "\n",
              "   M_quartile RFM_Segment  \n",
              "0           4         444  \n",
              "1           3         123  \n",
              "2           2         322  \n",
              "3           1         221  \n",
              "4           2         212  "
            ],
            "text/html": [
              "\n",
              "  <div id=\"df-b47c498b-89f8-42db-8283-ceee21e1ded8\">\n",
              "    <div class=\"colab-df-container\">\n",
              "      <div>\n",
              "<style scoped>\n",
              "    .dataframe tbody tr th:only-of-type {\n",
              "        vertical-align: middle;\n",
              "    }\n",
              "\n",
              "    .dataframe tbody tr th {\n",
              "        vertical-align: top;\n",
              "    }\n",
              "\n",
              "    .dataframe thead th {\n",
              "        text-align: right;\n",
              "    }\n",
              "</style>\n",
              "<table border=\"1\" class=\"dataframe\">\n",
              "  <thead>\n",
              "    <tr style=\"text-align: right;\">\n",
              "      <th></th>\n",
              "      <th>customer</th>\n",
              "      <th>Recency</th>\n",
              "      <th>Frequency</th>\n",
              "      <th>Monetary</th>\n",
              "      <th>R_quartile</th>\n",
              "      <th>F_quartile</th>\n",
              "      <th>M_quartile</th>\n",
              "      <th>RFM_Segment</th>\n",
              "    </tr>\n",
              "  </thead>\n",
              "  <tbody>\n",
              "    <tr>\n",
              "      <th>0</th>\n",
              "      <td>Aaron Bergman</td>\n",
              "      <td>415</td>\n",
              "      <td>3</td>\n",
              "      <td>887</td>\n",
              "      <td>4</td>\n",
              "      <td>4</td>\n",
              "      <td>4</td>\n",
              "      <td>444</td>\n",
              "    </tr>\n",
              "    <tr>\n",
              "      <th>1</th>\n",
              "      <td>Aaron Hawkins</td>\n",
              "      <td>12</td>\n",
              "      <td>7</td>\n",
              "      <td>1744</td>\n",
              "      <td>1</td>\n",
              "      <td>2</td>\n",
              "      <td>3</td>\n",
              "      <td>123</td>\n",
              "    </tr>\n",
              "    <tr>\n",
              "      <th>2</th>\n",
              "      <td>Aaron Smayling</td>\n",
              "      <td>88</td>\n",
              "      <td>7</td>\n",
              "      <td>3050</td>\n",
              "      <td>3</td>\n",
              "      <td>2</td>\n",
              "      <td>2</td>\n",
              "      <td>322</td>\n",
              "    </tr>\n",
              "    <tr>\n",
              "      <th>3</th>\n",
              "      <td>Adam Bellavance</td>\n",
              "      <td>54</td>\n",
              "      <td>8</td>\n",
              "      <td>7756</td>\n",
              "      <td>2</td>\n",
              "      <td>2</td>\n",
              "      <td>1</td>\n",
              "      <td>221</td>\n",
              "    </tr>\n",
              "    <tr>\n",
              "      <th>4</th>\n",
              "      <td>Adam Hart</td>\n",
              "      <td>34</td>\n",
              "      <td>10</td>\n",
              "      <td>3249</td>\n",
              "      <td>2</td>\n",
              "      <td>1</td>\n",
              "      <td>2</td>\n",
              "      <td>212</td>\n",
              "    </tr>\n",
              "  </tbody>\n",
              "</table>\n",
              "</div>\n",
              "      <button class=\"colab-df-convert\" onclick=\"convertToInteractive('df-b47c498b-89f8-42db-8283-ceee21e1ded8')\"\n",
              "              title=\"Convert this dataframe to an interactive table.\"\n",
              "              style=\"display:none;\">\n",
              "        \n",
              "  <svg xmlns=\"http://www.w3.org/2000/svg\" height=\"24px\"viewBox=\"0 0 24 24\"\n",
              "       width=\"24px\">\n",
              "    <path d=\"M0 0h24v24H0V0z\" fill=\"none\"/>\n",
              "    <path d=\"M18.56 5.44l.94 2.06.94-2.06 2.06-.94-2.06-.94-.94-2.06-.94 2.06-2.06.94zm-11 1L8.5 8.5l.94-2.06 2.06-.94-2.06-.94L8.5 2.5l-.94 2.06-2.06.94zm10 10l.94 2.06.94-2.06 2.06-.94-2.06-.94-.94-2.06-.94 2.06-2.06.94z\"/><path d=\"M17.41 7.96l-1.37-1.37c-.4-.4-.92-.59-1.43-.59-.52 0-1.04.2-1.43.59L10.3 9.45l-7.72 7.72c-.78.78-.78 2.05 0 2.83L4 21.41c.39.39.9.59 1.41.59.51 0 1.02-.2 1.41-.59l7.78-7.78 2.81-2.81c.8-.78.8-2.07 0-2.86zM5.41 20L4 18.59l7.72-7.72 1.47 1.35L5.41 20z\"/>\n",
              "  </svg>\n",
              "      </button>\n",
              "      \n",
              "  <style>\n",
              "    .colab-df-container {\n",
              "      display:flex;\n",
              "      flex-wrap:wrap;\n",
              "      gap: 12px;\n",
              "    }\n",
              "\n",
              "    .colab-df-convert {\n",
              "      background-color: #E8F0FE;\n",
              "      border: none;\n",
              "      border-radius: 50%;\n",
              "      cursor: pointer;\n",
              "      display: none;\n",
              "      fill: #1967D2;\n",
              "      height: 32px;\n",
              "      padding: 0 0 0 0;\n",
              "      width: 32px;\n",
              "    }\n",
              "\n",
              "    .colab-df-convert:hover {\n",
              "      background-color: #E2EBFA;\n",
              "      box-shadow: 0px 1px 2px rgba(60, 64, 67, 0.3), 0px 1px 3px 1px rgba(60, 64, 67, 0.15);\n",
              "      fill: #174EA6;\n",
              "    }\n",
              "\n",
              "    [theme=dark] .colab-df-convert {\n",
              "      background-color: #3B4455;\n",
              "      fill: #D2E3FC;\n",
              "    }\n",
              "\n",
              "    [theme=dark] .colab-df-convert:hover {\n",
              "      background-color: #434B5C;\n",
              "      box-shadow: 0px 1px 3px 1px rgba(0, 0, 0, 0.15);\n",
              "      filter: drop-shadow(0px 1px 2px rgba(0, 0, 0, 0.3));\n",
              "      fill: #FFFFFF;\n",
              "    }\n",
              "  </style>\n",
              "\n",
              "      <script>\n",
              "        const buttonEl =\n",
              "          document.querySelector('#df-b47c498b-89f8-42db-8283-ceee21e1ded8 button.colab-df-convert');\n",
              "        buttonEl.style.display =\n",
              "          google.colab.kernel.accessAllowed ? 'block' : 'none';\n",
              "\n",
              "        async function convertToInteractive(key) {\n",
              "          const element = document.querySelector('#df-b47c498b-89f8-42db-8283-ceee21e1ded8');\n",
              "          const dataTable =\n",
              "            await google.colab.kernel.invokeFunction('convertToInteractive',\n",
              "                                                     [key], {});\n",
              "          if (!dataTable) return;\n",
              "\n",
              "          const docLinkHtml = 'Like what you see? Visit the ' +\n",
              "            '<a target=\"_blank\" href=https://colab.research.google.com/notebooks/data_table.ipynb>data table notebook</a>'\n",
              "            + ' to learn more about interactive tables.';\n",
              "          element.innerHTML = '';\n",
              "          dataTable['output_type'] = 'display_data';\n",
              "          await google.colab.output.renderOutput(dataTable, element);\n",
              "          const docLink = document.createElement('div');\n",
              "          docLink.innerHTML = docLinkHtml;\n",
              "          element.appendChild(docLink);\n",
              "        }\n",
              "      </script>\n",
              "    </div>\n",
              "  </div>\n",
              "  "
            ]
          },
          "metadata": {},
          "execution_count": 43
        }
      ],
      "source": [
        "segmented_rfm.head()"
      ]
    },
    {
      "cell_type": "code",
      "execution_count": null,
      "metadata": {
        "id": "KPZ8mO8q22-2"
      },
      "outputs": [],
      "source": [
        "segmented_rfm['RFM_Score'] = segmented_rfm[['R_quartile','F_quartile','M_quartile']].sum(axis=1)"
      ]
    },
    {
      "cell_type": "code",
      "execution_count": null,
      "metadata": {
        "id": "2imz0s9127bl",
        "colab": {
          "base_uri": "https://localhost:8080/",
          "height": 206
        },
        "outputId": "14372dfd-418b-41a3-e2d4-cd95908a01f2"
      },
      "outputs": [
        {
          "output_type": "execute_result",
          "data": {
            "text/plain": [
              "          customer  Recency  Frequency  Monetary  R_quartile  F_quartile  \\\n",
              "0    Aaron Bergman      415          3       887           4           4   \n",
              "1    Aaron Hawkins       12          7      1744           1           2   \n",
              "2   Aaron Smayling       88          7      3050           3           2   \n",
              "3  Adam Bellavance       54          8      7756           2           2   \n",
              "4        Adam Hart       34         10      3249           2           1   \n",
              "\n",
              "   M_quartile RFM_Segment  RFM_Score  \n",
              "0           4         444         12  \n",
              "1           3         123          6  \n",
              "2           2         322          7  \n",
              "3           1         221          5  \n",
              "4           2         212          5  "
            ],
            "text/html": [
              "\n",
              "  <div id=\"df-32892834-72dd-4a5a-91a4-05ca7387a189\">\n",
              "    <div class=\"colab-df-container\">\n",
              "      <div>\n",
              "<style scoped>\n",
              "    .dataframe tbody tr th:only-of-type {\n",
              "        vertical-align: middle;\n",
              "    }\n",
              "\n",
              "    .dataframe tbody tr th {\n",
              "        vertical-align: top;\n",
              "    }\n",
              "\n",
              "    .dataframe thead th {\n",
              "        text-align: right;\n",
              "    }\n",
              "</style>\n",
              "<table border=\"1\" class=\"dataframe\">\n",
              "  <thead>\n",
              "    <tr style=\"text-align: right;\">\n",
              "      <th></th>\n",
              "      <th>customer</th>\n",
              "      <th>Recency</th>\n",
              "      <th>Frequency</th>\n",
              "      <th>Monetary</th>\n",
              "      <th>R_quartile</th>\n",
              "      <th>F_quartile</th>\n",
              "      <th>M_quartile</th>\n",
              "      <th>RFM_Segment</th>\n",
              "      <th>RFM_Score</th>\n",
              "    </tr>\n",
              "  </thead>\n",
              "  <tbody>\n",
              "    <tr>\n",
              "      <th>0</th>\n",
              "      <td>Aaron Bergman</td>\n",
              "      <td>415</td>\n",
              "      <td>3</td>\n",
              "      <td>887</td>\n",
              "      <td>4</td>\n",
              "      <td>4</td>\n",
              "      <td>4</td>\n",
              "      <td>444</td>\n",
              "      <td>12</td>\n",
              "    </tr>\n",
              "    <tr>\n",
              "      <th>1</th>\n",
              "      <td>Aaron Hawkins</td>\n",
              "      <td>12</td>\n",
              "      <td>7</td>\n",
              "      <td>1744</td>\n",
              "      <td>1</td>\n",
              "      <td>2</td>\n",
              "      <td>3</td>\n",
              "      <td>123</td>\n",
              "      <td>6</td>\n",
              "    </tr>\n",
              "    <tr>\n",
              "      <th>2</th>\n",
              "      <td>Aaron Smayling</td>\n",
              "      <td>88</td>\n",
              "      <td>7</td>\n",
              "      <td>3050</td>\n",
              "      <td>3</td>\n",
              "      <td>2</td>\n",
              "      <td>2</td>\n",
              "      <td>322</td>\n",
              "      <td>7</td>\n",
              "    </tr>\n",
              "    <tr>\n",
              "      <th>3</th>\n",
              "      <td>Adam Bellavance</td>\n",
              "      <td>54</td>\n",
              "      <td>8</td>\n",
              "      <td>7756</td>\n",
              "      <td>2</td>\n",
              "      <td>2</td>\n",
              "      <td>1</td>\n",
              "      <td>221</td>\n",
              "      <td>5</td>\n",
              "    </tr>\n",
              "    <tr>\n",
              "      <th>4</th>\n",
              "      <td>Adam Hart</td>\n",
              "      <td>34</td>\n",
              "      <td>10</td>\n",
              "      <td>3249</td>\n",
              "      <td>2</td>\n",
              "      <td>1</td>\n",
              "      <td>2</td>\n",
              "      <td>212</td>\n",
              "      <td>5</td>\n",
              "    </tr>\n",
              "  </tbody>\n",
              "</table>\n",
              "</div>\n",
              "      <button class=\"colab-df-convert\" onclick=\"convertToInteractive('df-32892834-72dd-4a5a-91a4-05ca7387a189')\"\n",
              "              title=\"Convert this dataframe to an interactive table.\"\n",
              "              style=\"display:none;\">\n",
              "        \n",
              "  <svg xmlns=\"http://www.w3.org/2000/svg\" height=\"24px\"viewBox=\"0 0 24 24\"\n",
              "       width=\"24px\">\n",
              "    <path d=\"M0 0h24v24H0V0z\" fill=\"none\"/>\n",
              "    <path d=\"M18.56 5.44l.94 2.06.94-2.06 2.06-.94-2.06-.94-.94-2.06-.94 2.06-2.06.94zm-11 1L8.5 8.5l.94-2.06 2.06-.94-2.06-.94L8.5 2.5l-.94 2.06-2.06.94zm10 10l.94 2.06.94-2.06 2.06-.94-2.06-.94-.94-2.06-.94 2.06-2.06.94z\"/><path d=\"M17.41 7.96l-1.37-1.37c-.4-.4-.92-.59-1.43-.59-.52 0-1.04.2-1.43.59L10.3 9.45l-7.72 7.72c-.78.78-.78 2.05 0 2.83L4 21.41c.39.39.9.59 1.41.59.51 0 1.02-.2 1.41-.59l7.78-7.78 2.81-2.81c.8-.78.8-2.07 0-2.86zM5.41 20L4 18.59l7.72-7.72 1.47 1.35L5.41 20z\"/>\n",
              "  </svg>\n",
              "      </button>\n",
              "      \n",
              "  <style>\n",
              "    .colab-df-container {\n",
              "      display:flex;\n",
              "      flex-wrap:wrap;\n",
              "      gap: 12px;\n",
              "    }\n",
              "\n",
              "    .colab-df-convert {\n",
              "      background-color: #E8F0FE;\n",
              "      border: none;\n",
              "      border-radius: 50%;\n",
              "      cursor: pointer;\n",
              "      display: none;\n",
              "      fill: #1967D2;\n",
              "      height: 32px;\n",
              "      padding: 0 0 0 0;\n",
              "      width: 32px;\n",
              "    }\n",
              "\n",
              "    .colab-df-convert:hover {\n",
              "      background-color: #E2EBFA;\n",
              "      box-shadow: 0px 1px 2px rgba(60, 64, 67, 0.3), 0px 1px 3px 1px rgba(60, 64, 67, 0.15);\n",
              "      fill: #174EA6;\n",
              "    }\n",
              "\n",
              "    [theme=dark] .colab-df-convert {\n",
              "      background-color: #3B4455;\n",
              "      fill: #D2E3FC;\n",
              "    }\n",
              "\n",
              "    [theme=dark] .colab-df-convert:hover {\n",
              "      background-color: #434B5C;\n",
              "      box-shadow: 0px 1px 3px 1px rgba(0, 0, 0, 0.15);\n",
              "      filter: drop-shadow(0px 1px 2px rgba(0, 0, 0, 0.3));\n",
              "      fill: #FFFFFF;\n",
              "    }\n",
              "  </style>\n",
              "\n",
              "      <script>\n",
              "        const buttonEl =\n",
              "          document.querySelector('#df-32892834-72dd-4a5a-91a4-05ca7387a189 button.colab-df-convert');\n",
              "        buttonEl.style.display =\n",
              "          google.colab.kernel.accessAllowed ? 'block' : 'none';\n",
              "\n",
              "        async function convertToInteractive(key) {\n",
              "          const element = document.querySelector('#df-32892834-72dd-4a5a-91a4-05ca7387a189');\n",
              "          const dataTable =\n",
              "            await google.colab.kernel.invokeFunction('convertToInteractive',\n",
              "                                                     [key], {});\n",
              "          if (!dataTable) return;\n",
              "\n",
              "          const docLinkHtml = 'Like what you see? Visit the ' +\n",
              "            '<a target=\"_blank\" href=https://colab.research.google.com/notebooks/data_table.ipynb>data table notebook</a>'\n",
              "            + ' to learn more about interactive tables.';\n",
              "          element.innerHTML = '';\n",
              "          dataTable['output_type'] = 'display_data';\n",
              "          await google.colab.output.renderOutput(dataTable, element);\n",
              "          const docLink = document.createElement('div');\n",
              "          docLink.innerHTML = docLinkHtml;\n",
              "          element.appendChild(docLink);\n",
              "        }\n",
              "      </script>\n",
              "    </div>\n",
              "  </div>\n",
              "  "
            ]
          },
          "metadata": {},
          "execution_count": 45
        }
      ],
      "source": [
        "segmented_rfm.head()"
      ]
    },
    {
      "cell_type": "markdown",
      "source": [
        "In this RFM Model assigns a score of 1-4 (from best to worst) for customers in each of the three categories. The best RFM score is the one with the smallest values for each variable, we use a 1 to 4 scale for recency, frequency, and monetary, with 1 being the highest, then the perfect RFM score is 111.\n",
        "\n",
        "Customer who get score **1 for R_quartile** means that the customer has **recently** made a purchase from the company. From the data above we can take the example for customer Aaron Hawkons who get **1 score for R_quartile**, he just made a last purchase from the company  **12 days ago**, it's different from Aaron Bergman who get score **4 for R_quartile** because he made the last purchase from the company **415 days ago**, which mean more than one year ago.\n",
        "\n",
        "Customer who get score **1 for F_quartile** means that the customer make a high frequent purchase from the company. From the data above we can take the example for customer Adam Hart who get **1 score fot F_quartile**, he made a purchase with **10 frequency**, it's different from Aaron Bergman who get score **4 for F_quartile** because he made purchase from the company wih **4 frequency** which is lower than Adam Hart.\n",
        "\n",
        "Customer who get score **1 for M_quartile** means that the customer spend big money for purchase from the company. From the data above we can take the example for customer Adam Bellavance who get **1 score for M_quartile**, he spend money **775 dollar** for purchase product from company, it's different from Aaron Bergman who get score **4 for M_quartile** because he spend lower than Adam Bellanvance for purchasing from the company with **887 dollar**\n",
        "\n",
        "\n",
        "\n",
        "\n"
      ],
      "metadata": {
        "id": "kEr_wVW7bcWc"
      }
    },
    {
      "cell_type": "markdown",
      "metadata": {
        "id": "UIyYOyTP3CWd"
      },
      "source": [
        "# Labelling"
      ]
    },
    {
      "cell_type": "code",
      "execution_count": null,
      "metadata": {
        "id": "rAlsrXa_3FGx",
        "colab": {
          "base_uri": "https://localhost:8080/"
        },
        "outputId": "51f9cb80-22c0-422e-f11a-ed6ef86b345a"
      },
      "outputs": [
        {
          "output_type": "stream",
          "name": "stdout",
          "text": [
            "Best Customers:  30\n",
            "Loyal Customers:  159\n",
            "Big Spenders:  198\n",
            "Almost Lost:  2\n",
            "Lost Customers:  31\n",
            "Lost Cheap Customers:  67\n"
          ]
        }
      ],
      "source": [
        "print(\"Best Customers: \",len(segmented_rfm[segmented_rfm['RFM_Segment']=='111']))\n",
        "print('Loyal Customers: ',len(segmented_rfm[segmented_rfm['F_quartile']==1]))\n",
        "print(\"Big Spenders: \",len(segmented_rfm[segmented_rfm['M_quartile']==1]))\n",
        "print('Almost Lost: ', len(segmented_rfm[segmented_rfm['RFM_Segment']=='134']))\n",
        "print('Lost Customers: ',len(segmented_rfm[segmented_rfm['RFM_Segment']=='344']))\n",
        "print('Lost Cheap Customers: ',len(segmented_rfm[segmented_rfm['RFM_Segment']=='444']))"
      ]
    },
    {
      "cell_type": "code",
      "execution_count": null,
      "metadata": {
        "id": "fuU1fY4w3aU2"
      },
      "outputs": [],
      "source": [
        "label = [0] * len(segmented_rfm)\n",
        "\n",
        "for i in range(0,len(segmented_rfm)):\n",
        "\n",
        "    if segmented_rfm['RFM_Segment'][i] == '111':\n",
        "        label[i] = \"Best Customers\"\n",
        "        \n",
        "    elif segmented_rfm['RFM_Segment'][i] == '134' :\n",
        "        label[i] = \"Almost Lost\"\n",
        "        \n",
        "    elif segmented_rfm['RFM_Segment'][i] == '344':\n",
        "        label[i] = \"Lost Customers\"\n",
        "    \n",
        "    elif segmented_rfm['RFM_Segment'][i] == '444':\n",
        "        label[i] = \"Lost Cheap Customers\"\n",
        "\n",
        "    elif segmented_rfm['F_quartile'][i] == 1:\n",
        "        label[i] = \"Loyal Customers\"  \n",
        "    \n",
        "    elif segmented_rfm['M_quartile'][i] == 1:\n",
        "        label[i] = \"Big Spenders\"   \n",
        "        \n",
        "    else:\n",
        "        label[i] = \"Others\""
      ]
    },
    {
      "cell_type": "code",
      "execution_count": null,
      "metadata": {
        "id": "0e-Le7Xo3g2k"
      },
      "outputs": [],
      "source": [
        "segmented_rfm['Label'] = label"
      ]
    },
    {
      "cell_type": "code",
      "execution_count": null,
      "metadata": {
        "id": "3Syu1eMY3kvP",
        "colab": {
          "base_uri": "https://localhost:8080/"
        },
        "outputId": "bd701e8c-8790-4e11-cc9b-7db4be297d44"
      },
      "outputs": [
        {
          "output_type": "execute_result",
          "data": {
            "text/plain": [
              "Others                  409\n",
              "Loyal Customers         129\n",
              "Big Spenders            125\n",
              "Lost Cheap Customers     67\n",
              "Lost Customers           31\n",
              "Best Customers           30\n",
              "Almost Lost               2\n",
              "Name: Label, dtype: int64"
            ]
          },
          "metadata": {},
          "execution_count": 49
        }
      ],
      "source": [
        "segmented_rfm['Label'].value_counts()"
      ]
    },
    {
      "cell_type": "code",
      "execution_count": null,
      "metadata": {
        "id": "KpRR1ioV3pg1",
        "colab": {
          "base_uri": "https://localhost:8080/",
          "height": 497
        },
        "outputId": "d94791a3-e177-4f74-ec4a-ed577a4db4ba"
      },
      "outputs": [
        {
          "output_type": "display_data",
          "data": {
            "text/plain": [
              "<Figure size 864x576 with 1 Axes>"
            ],
            "image/png": "[encoded data removed]"
          },
          "metadata": {
            "needs_background": "light"
          }
        }
      ],
      "source": [
        "sq1 = segmented_rfm.groupby('Label')['customer'].nunique().sort_values(ascending=False).reset_index()\n",
        "plt.figure(figsize= (12,8))\n",
        "# sq1.drop([0], inplace = True)\n",
        "sns.barplot(data=sq1, x = 'Label', y = 'customer', palette = 'gray')\n",
        "\n",
        "plt.text(0, 415, '51,58%', ha='center', va='center', fontsize=12)\n",
        "plt.text(1, 136, '16,27%', ha='center', va='center', fontsize=12)\n",
        "plt.text(2, 131, '15,76%', ha='center', va='center', fontsize=12)\n",
        "plt.text(3, 73, '8,45%', ha='center', va='center', fontsize=12)\n",
        "plt.text(4, 37, '3,91%', ha='center', va='center', fontsize=12)\n",
        "plt.text(5, 36, '3,78%', ha='center', va='center', fontsize=12)\n",
        "plt.text(6, 8, '0,25%', ha='center', va='center', fontsize=12);"
      ]
    },
    {
      "cell_type": "code",
      "execution_count": null,
      "metadata": {
        "id": "0FRyT2dtueTG",
        "colab": {
          "base_uri": "https://localhost:8080/"
        },
        "outputId": "7db883aa-5968-4e5f-832b-34d3fca302bc"
      },
      "outputs": [
        {
          "output_type": "stream",
          "name": "stdout",
          "text": [
            "Persentage of 'Others' is 51.58 percent from all customer\n",
            "Persentage of 'Loyal Customer' is 16.27 percent from all customer\n",
            "Persentage of 'Big Spenders' is 15.76 percent from all customer\n",
            "Persentage of 'Lost Cheap Customers' is 8.45 percent from all customer\n",
            "Persentage of 'Lost Customers' is 3.91 percent from all customer\n",
            "Persentage of 'Best Customers' is 3.78 percent from all customer\n",
            "Persentage of 'Almost Lost' is 0.25 percent from all customer\n"
          ]
        }
      ],
      "source": [
        "Others = 409\n",
        "Loyal_Customers = 129\n",
        "Big_Spenders=125\n",
        "Lost_Cheap_Customers =67\n",
        "Lost_Customers=31\n",
        "Best_Customers=30\n",
        "Almost_Lost =2\n",
        "\n",
        "total = Others+Loyal_Customers+Big_Spenders+Lost_Cheap_Customers+Lost_Customers+Best_Customers+Almost_Lost\n",
        "p_others = Others/total*100\n",
        "p_Loyal_Customers = Loyal_Customers/total * 100\n",
        "p_Big_Spenders= Big_Spenders/total * 100\n",
        "p_Lost_Cheap_Customers = Lost_Cheap_Customers/total * 100\n",
        "p_Lost_Customers = Lost_Customers/total * 100\n",
        "p_Best_Customers = Best_Customers/total * 100\n",
        "p_Almost_Lost = Almost_Lost/total * 100\n",
        "print(\"Persentage of 'Others' is %.2f percent from all customer\"%p_others)\n",
        "print(\"Persentage of 'Loyal Customer' is %.2f percent from all customer\"%p_Loyal_Customers)\n",
        "print(\"Persentage of 'Big Spenders' is %.2f percent from all customer\"%p_Big_Spenders)\n",
        "print(\"Persentage of 'Lost Cheap Customers' is %.2f percent from all customer\"%p_Lost_Cheap_Customers)\n",
        "print(\"Persentage of 'Lost Customers' is %.2f percent from all customer\"%p_Lost_Customers)\n",
        "print(\"Persentage of 'Best Customers' is %.2f percent from all customer\"%p_Best_Customers)\n",
        "print(\"Persentage of 'Almost Lost' is %.2f percent from all customer\"%p_Almost_Lost)"
      ]
    },
    {
      "cell_type": "markdown",
      "metadata": {
        "id": "5TAgdZQzSZF_"
      },
      "source": [
        "From the graph above, it is known that there are 6 categories of customers.\n",
        "The most customer category is **Loyal Customer** and the least is **Almost lost** customer.\n",
        "**Loyal customers** are customers who have frequent purchases (F=1) The percentage of loyal customers is 16.27% of all customer.\n",
        "**Big Spenders** are customers who make purchases with a large amount of price (M = 1), the percentage of Big Spenders customers is 15.76% of all customer.\n",
        "**Lost Cheap Customers** are customers who have made a purchase for a long time (R = 4), rarely make purchases (low frequency/ F= 4) and the total price of the purchase is small (M= 4), the number of incoming customers in the Lost Cheap Customer category is 8.45% of all customers.\n",
        "**Best Customer** is a customer who has recently made a purchase (R = 1), frequently makes purchases (high frequency/ F= 1) and the total price of the purchase is large (M= 1), the number of customers who fall into the category This is 3.78% of the total customers.\n",
        "**Lost Customers**, are customers who haven't made a purchase long enough (R = 3), rarely make purchases (low frequency/ F= 4) and the total price of the purchase is small (M=4), customers who enter in this category amounted to 3.91% of all customers.\n",
        "**Almost Lost** is a customer who has recently made a purchase (R = 1), rarely makes a purchase (quite low frequency/F= 3) and the total price of the purchase is small (M=4), a customer who is included in the this category is 0.25% of all customers."
      ]
    },
    {
      "cell_type": "markdown",
      "metadata": {
        "id": "GOaOPW_KxWCF"
      },
      "source": [
        "# Result\n",
        "\n",
        "\n",
        "1.   Based on the data above, we can see that the average customer purchases products with a **total price of 458.626672**, the customer with the **lowest purchase is at 1.000000** and **the highest purchase is at 23661.000000**\n",
        "2.   Based on the graph above, it can be seen that in 2011, the trend of total customer purchases increased, although in 2011 there was a **significant decrease** in the second month which reached **the lowest point of 4810**, and **reached the peak/all time high 2011** in the 9th month of the year which **reached 81784**. On an annual basis, **Customer spend increased by 398.58%**\n",
        "3. Based on the graph above, it can be seen that in 2012, the trend of total customer purchases increased, although in 2012 there was a **significant decrease** in the second month which reached **the lowest point of 12211**, and **reached the peak/all time high 2012** in the 11th month of the year which **reached 75968**. On an annual basis, **Customer spend increased by 312.23%**\n",
        "4. Based on the graph above, it can be seen that in 2013, the trend of total customer purchases increased, although in 2013 there was a **significant decrease** in the first month which reached **the lowest point of 18543**, and **reached the peak/all time high 2013** in the last month of the year which **reached 97244**. On an annual basis, **Customer spend increased by 424.42%**\n",
        "5. Based on the graph above, it can be seen that in 2014, the trend of total customer purchases increased, although in 2014 there was a **significant decrease** in the second month which reached **the lowest point of 44708**, and **reached the peak/all time high 2014** in the 11th month of the year which **reached 112329**. On an annual basis, **Customer spend increased by 102.38%**\n",
        "6. Customer purchase data 'order data' from January 2011 to 2014 is fluctuated. In 2011 the highest purchase was in September with a total purchase of **81,784 k** and the lowest was of **4810** in February, in 2012 the highest purchase was in November with a total purchase of **75,968 k** and the lowest was in February with a value of **12,211 k** , in 2013 the highest purchase was worth **97,244 k** in December and the lowest was in January with a value of **18,543 k**, and in 2014 the highest purchase was in November with a total of **112.293 k** and the lowest in February with a value of **20,287 k**. Overall, the highest purchase in the period 2011 to 2014 was in November 2014 with a value of **112.293 k** and the lowest was in February 2011 with a total purchase of **4810**.\n",
        "From the data above, there is also a visible pattern where in the three-year period the lowest purchases are generally at the beginning of the year,  between January and February, while the highest purchases are at the end of the year between September and December.\n",
        "7. From the graph above, it is known that there are 6 categories of customers.\n",
        " - The most customer category is **Loyal Customer** and the least is **Almost lost** customer.\n",
        " - **Loyal customers** are customers who have frequent purchases (F=1) The percentage of loyal customers is 16.27% of all customer. \n",
        " - **Big Spenders** are customers who make purchases with a large amount of price (M = 1), the percentage of Big Spenders customers is 15.76% of all customer.\n",
        " - **Lost Cheap Customers** are customers who have made a purchase for a long time (R = 4), rarely make purchases (low frequency/ F= 4) and the total price of the purchase is small (M= 4), the number of incoming customers in the Lost Cheap Customer category is 8.45% of all customers. \n",
        " - **Best Customer** is a customer who has recently made a purchase (R = 1), frequently makes purchases (high frequency/ F= 1) and the total price of the purchase is large (M= 1), the number of customers who fall into the category This is 3.78% of the total customers.\n",
        " - **Lost Customers**, are customers who haven't made a purchase long enough (R = 3), rarely make purchases (low frequency/ F= 4) and the total price of the purchase is small (M=4), customers who enter in this category amounted to 3.91% of all customers.\n",
        " - **Almost Lost** is a customer who has recently made a purchase (R = 1), rarely makes a purchase (quite low frequency/F= 3) and the total price of the purchase is small (M=4), a customer who is included in the this category is 0.25% of all customers.\n",
        "\n"
      ]
    },
    {
      "cell_type": "markdown",
      "metadata": {
        "id": "pHHdLfHByrXG"
      },
      "source": [
        "# Recommendation\n"
      ]
    },
    {
      "cell_type": "markdown",
      "metadata": {
        "id": "eGBF5ElR0uUX"
      },
      "source": [
        "*   Recommendation for \"Loyal Customers\" segment: In order to keep this customer group's loyalty and raise their value, the business team must optimize the budget and timing of both campaigns.\n",
        "* Recommendation for \"Big Spenders\" segment: In order to keep and boosting frequency of order, focus on give loyalty and advantages for every order \n",
        "*   Recommendation for \"Best Customers\" segment: Focus on boosting client purchases; as a result, develop an upselling/cross-selling strategy or make bundling strategy.\n",
        "* Recommendation for \"Almost Lost\" segment: Since this customer group is more susceptible to churn, concentrate on reactivating consumers and encouraging repeat purchases by developing a reactivation strategy and retention strategy.\n",
        "* Recommendation for \"Lost Cheap Customers\" and \"Lost Customer\" segment: The goal of the campaign is to reactivate the customer by creating a Reactivation strategy because this consumer category has churned.\n",
        "\n",
        "\n"
      ]
    }
  ],
  "metadata": {
    "colab": {
      "collapsed_sections": [],
      "provenance": []
    },
    "kernelspec": {
      "display_name": "Python 3 (ipykernel)",
      "language": "python",
      "name": "python3"
    },
    "language_info": {
      "codemirror_mode": {
        "name": "ipython",
        "version": 3
      },
      "file_extension": ".py",
      "mimetype": "text/x-python",
      "name": "python",
      "nbconvert_exporter": "python",
      "pygments_lexer": "ipython3",
      "version": "3.10.0"
    }
  },
  "nbformat": 4,
  "nbformat_minor": 0
}